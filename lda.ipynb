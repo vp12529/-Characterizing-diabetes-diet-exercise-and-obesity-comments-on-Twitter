{
  "cells": [
    {
      "cell_type": "markdown",
      "metadata": {
        "id": "5gnjn2mJhZy3"
      },
      "source": [
        "### DATA  CHECK FROM AUTHOR'S PROVIDED IDs"
      ]
    },
    {
      "cell_type": "code",
      "execution_count": 25,
      "metadata": {
        "colab": {
          "base_uri": "https://localhost:8080/"
        },
        "id": "pARDHqfuHSKV",
        "outputId": "e91de337-c0ea-4070-aaeb-e1d7b3c1f860"
      },
      "outputs": [
        {
          "name": "stdout",
          "output_type": "stream",
          "text": [
            "Requirement already satisfied: twython in c:\\users\\panka\\appdata\\local\\packages\\pythonsoftwarefoundation.python.3.10_qbz5n2kfra8p0\\localcache\\local-packages\\python310\\site-packages (3.9.1)\n",
            "Requirement already satisfied: requests>=2.1.0 in c:\\users\\panka\\appdata\\local\\packages\\pythonsoftwarefoundation.python.3.10_qbz5n2kfra8p0\\localcache\\local-packages\\python310\\site-packages (from twython) (2.28.2)\n",
            "Requirement already satisfied: requests-oauthlib>=0.4.0 in c:\\users\\panka\\appdata\\local\\packages\\pythonsoftwarefoundation.python.3.10_qbz5n2kfra8p0\\localcache\\local-packages\\python310\\site-packages (from twython) (1.3.1)\n",
            "Requirement already satisfied: idna<4,>=2.5 in c:\\users\\panka\\appdata\\local\\packages\\pythonsoftwarefoundation.python.3.10_qbz5n2kfra8p0\\localcache\\local-packages\\python310\\site-packages (from requests>=2.1.0->twython) (3.4)\n",
            "Requirement already satisfied: charset-normalizer<4,>=2 in c:\\users\\panka\\appdata\\local\\packages\\pythonsoftwarefoundation.python.3.10_qbz5n2kfra8p0\\localcache\\local-packages\\python310\\site-packages (from requests>=2.1.0->twython) (3.0.1)\n",
            "Requirement already satisfied: urllib3<1.27,>=1.21.1 in c:\\users\\panka\\appdata\\local\\packages\\pythonsoftwarefoundation.python.3.10_qbz5n2kfra8p0\\localcache\\local-packages\\python310\\site-packages (from requests>=2.1.0->twython) (1.26.14)\n",
            "Requirement already satisfied: certifi>=2017.4.17 in c:\\users\\panka\\appdata\\local\\packages\\pythonsoftwarefoundation.python.3.10_qbz5n2kfra8p0\\localcache\\local-packages\\python310\\site-packages (from requests>=2.1.0->twython) (2022.12.7)\n",
            "Requirement already satisfied: oauthlib>=3.0.0 in c:\\users\\panka\\appdata\\local\\packages\\pythonsoftwarefoundation.python.3.10_qbz5n2kfra8p0\\localcache\\local-packages\\python310\\site-packages (from requests-oauthlib>=0.4.0->twython) (3.2.2)\n"
          ]
        }
      ],
      "source": [
        "!pip3 install twython"
      ]
    },
    {
      "cell_type": "code",
      "execution_count": 26,
      "metadata": {
        "id": "W5uKchtEIDuV"
      },
      "outputs": [],
      "source": [
        "from twython import Twython, TwythonError"
      ]
    },
    {
      "cell_type": "markdown",
      "metadata": {
        "id": "XcFJJsKshQJx"
      },
      "source": [
        "### DATA EXTRACTION"
      ]
    },
    {
      "cell_type": "code",
      "execution_count": 27,
      "metadata": {
        "colab": {
          "base_uri": "https://localhost:8080/"
        },
        "id": "Jtvp1DF9_Ao_",
        "outputId": "05cd42cd-ae10-4cec-ea15-19a480613961"
      },
      "outputs": [
        {
          "name": "stdout",
          "output_type": "stream",
          "text": [
            "Requirement already satisfied: tweepy in c:\\users\\panka\\appdata\\local\\packages\\pythonsoftwarefoundation.python.3.10_qbz5n2kfra8p0\\localcache\\local-packages\\python310\\site-packages (4.12.1)\n",
            "Requirement already satisfied: requests-oauthlib<2,>=1.2.0 in c:\\users\\panka\\appdata\\local\\packages\\pythonsoftwarefoundation.python.3.10_qbz5n2kfra8p0\\localcache\\local-packages\\python310\\site-packages (from tweepy) (1.3.1)\n",
            "Requirement already satisfied: requests<3,>=2.27.0 in c:\\users\\panka\\appdata\\local\\packages\\pythonsoftwarefoundation.python.3.10_qbz5n2kfra8p0\\localcache\\local-packages\\python310\\site-packages (from tweepy) (2.28.2)\n",
            "Requirement already satisfied: oauthlib<4,>=3.2.0 in c:\\users\\panka\\appdata\\local\\packages\\pythonsoftwarefoundation.python.3.10_qbz5n2kfra8p0\\localcache\\local-packages\\python310\\site-packages (from tweepy) (3.2.2)\n",
            "Requirement already satisfied: charset-normalizer<4,>=2 in c:\\users\\panka\\appdata\\local\\packages\\pythonsoftwarefoundation.python.3.10_qbz5n2kfra8p0\\localcache\\local-packages\\python310\\site-packages (from requests<3,>=2.27.0->tweepy) (3.0.1)\n",
            "Requirement already satisfied: idna<4,>=2.5 in c:\\users\\panka\\appdata\\local\\packages\\pythonsoftwarefoundation.python.3.10_qbz5n2kfra8p0\\localcache\\local-packages\\python310\\site-packages (from requests<3,>=2.27.0->tweepy) (3.4)\n",
            "Requirement already satisfied: urllib3<1.27,>=1.21.1 in c:\\users\\panka\\appdata\\local\\packages\\pythonsoftwarefoundation.python.3.10_qbz5n2kfra8p0\\localcache\\local-packages\\python310\\site-packages (from requests<3,>=2.27.0->tweepy) (1.26.14)\n",
            "Requirement already satisfied: certifi>=2017.4.17 in c:\\users\\panka\\appdata\\local\\packages\\pythonsoftwarefoundation.python.3.10_qbz5n2kfra8p0\\localcache\\local-packages\\python310\\site-packages (from requests<3,>=2.27.0->tweepy) (2022.12.7)\n"
          ]
        }
      ],
      "source": [
        "# Pip install Tweepy if you don't already have the package\n",
        "!pip install tweepy\n",
        "\n",
        "# Imports\n",
        "import tweepy\n",
        "import pandas as pd\n",
        "import time"
      ]
    },
    {
      "cell_type": "markdown",
      "metadata": {
        "id": "V0Zy1VPTTsBP"
      },
      "source": [
        "### DDEO"
      ]
    },
    {
      "cell_type": "code",
      "execution_count": 28,
      "metadata": {
        "colab": {
          "base_uri": "https://localhost:8080/",
          "height": 942
        },
        "id": "MgWtxAPkdhUU",
        "outputId": "111a24ec-063b-4bde-ab0a-74f2718a4e6c"
      },
      "outputs": [
        {
          "name": "stdout",
          "output_type": "stream",
          "text": [
            "Requirement already satisfied: pyLDAvis in c:\\users\\panka\\appdata\\local\\packages\\pythonsoftwarefoundation.python.3.10_qbz5n2kfra8p0\\localcache\\local-packages\\python310\\site-packages (3.3.1)\n",
            "Requirement already satisfied: pandas>=1.2.0 in c:\\users\\panka\\appdata\\local\\packages\\pythonsoftwarefoundation.python.3.10_qbz5n2kfra8p0\\localcache\\local-packages\\python310\\site-packages (from pyLDAvis) (1.5.3)\n",
            "Requirement already satisfied: joblib in c:\\users\\panka\\appdata\\local\\packages\\pythonsoftwarefoundation.python.3.10_qbz5n2kfra8p0\\localcache\\local-packages\\python310\\site-packages (from pyLDAvis) (1.2.0)\n",
            "Requirement already satisfied: scipy in c:\\users\\panka\\appdata\\local\\packages\\pythonsoftwarefoundation.python.3.10_qbz5n2kfra8p0\\localcache\\local-packages\\python310\\site-packages (from pyLDAvis) (1.10.0)\n",
            "Requirement already satisfied: sklearn in c:\\users\\panka\\appdata\\local\\packages\\pythonsoftwarefoundation.python.3.10_qbz5n2kfra8p0\\localcache\\local-packages\\python310\\site-packages (from pyLDAvis) (0.0.post1)\n",
            "Requirement already satisfied: jinja2 in c:\\users\\panka\\appdata\\local\\packages\\pythonsoftwarefoundation.python.3.10_qbz5n2kfra8p0\\localcache\\local-packages\\python310\\site-packages (from pyLDAvis) (3.1.2)\n",
            "Requirement already satisfied: scikit-learn in c:\\users\\panka\\appdata\\local\\packages\\pythonsoftwarefoundation.python.3.10_qbz5n2kfra8p0\\localcache\\local-packages\\python310\\site-packages (from pyLDAvis) (1.1.3)\n",
            "Requirement already satisfied: setuptools in c:\\users\\panka\\appdata\\local\\packages\\pythonsoftwarefoundation.python.3.10_qbz5n2kfra8p0\\localcache\\local-packages\\python310\\site-packages (from pyLDAvis) (67.1.0)\n",
            "Requirement already satisfied: future in c:\\users\\panka\\appdata\\local\\packages\\pythonsoftwarefoundation.python.3.10_qbz5n2kfra8p0\\localcache\\local-packages\\python310\\site-packages (from pyLDAvis) (0.18.3)\n",
            "Requirement already satisfied: gensim in c:\\users\\panka\\appdata\\local\\packages\\pythonsoftwarefoundation.python.3.10_qbz5n2kfra8p0\\localcache\\local-packages\\python310\\site-packages (from pyLDAvis) (4.3.1)\n",
            "Requirement already satisfied: numpy>=1.20.0 in c:\\users\\panka\\appdata\\local\\packages\\pythonsoftwarefoundation.python.3.10_qbz5n2kfra8p0\\localcache\\local-packages\\python310\\site-packages (from pyLDAvis) (1.24.1)\n",
            "Requirement already satisfied: numexpr in c:\\users\\panka\\appdata\\local\\packages\\pythonsoftwarefoundation.python.3.10_qbz5n2kfra8p0\\localcache\\local-packages\\python310\\site-packages (from pyLDAvis) (2.8.4)\n",
            "Requirement already satisfied: funcy in c:\\users\\panka\\appdata\\local\\packages\\pythonsoftwarefoundation.python.3.10_qbz5n2kfra8p0\\localcache\\local-packages\\python310\\site-packages (from pyLDAvis) (1.18)\n",
            "Requirement already satisfied: pytz>=2020.1 in c:\\users\\panka\\appdata\\local\\packages\\pythonsoftwarefoundation.python.3.10_qbz5n2kfra8p0\\localcache\\local-packages\\python310\\site-packages (from pandas>=1.2.0->pyLDAvis) (2022.7.1)\n",
            "Requirement already satisfied: python-dateutil>=2.8.1 in c:\\users\\panka\\appdata\\local\\packages\\pythonsoftwarefoundation.python.3.10_qbz5n2kfra8p0\\localcache\\local-packages\\python310\\site-packages (from pandas>=1.2.0->pyLDAvis) (2.8.2)\n",
            "Requirement already satisfied: smart-open>=1.8.1 in c:\\users\\panka\\appdata\\local\\packages\\pythonsoftwarefoundation.python.3.10_qbz5n2kfra8p0\\localcache\\local-packages\\python310\\site-packages (from gensim->pyLDAvis) (6.3.0)\n",
            "Requirement already satisfied: MarkupSafe>=2.0 in c:\\users\\panka\\appdata\\local\\packages\\pythonsoftwarefoundation.python.3.10_qbz5n2kfra8p0\\localcache\\local-packages\\python310\\site-packages (from jinja2->pyLDAvis) (2.1.2)\n",
            "Requirement already satisfied: threadpoolctl>=2.0.0 in c:\\users\\panka\\appdata\\local\\packages\\pythonsoftwarefoundation.python.3.10_qbz5n2kfra8p0\\localcache\\local-packages\\python310\\site-packages (from scikit-learn->pyLDAvis) (3.1.0)\n",
            "Requirement already satisfied: six>=1.5 in c:\\users\\panka\\appdata\\local\\packages\\pythonsoftwarefoundation.python.3.10_qbz5n2kfra8p0\\localcache\\local-packages\\python310\\site-packages (from python-dateutil>=2.8.1->pandas>=1.2.0->pyLDAvis) (1.16.0)\n"
          ]
        }
      ],
      "source": [
        "!pip install pyLDAvis"
      ]
    },
    {
      "cell_type": "code",
      "execution_count": 29,
      "metadata": {
        "id": "OucsncMgackt"
      },
      "outputs": [],
      "source": [
        "import re\n",
        "import numpy as np\n",
        "import pandas as pd\n",
        "from pprint import pprint\n",
        "\n",
        "# Gensim\n",
        "import gensim\n",
        "import gensim.corpora as corpora\n",
        "from gensim.utils import simple_preprocess\n",
        "from gensim.models import CoherenceModel\n",
        "\n",
        "# spacy for lemmatization\n",
        "import spacy\n",
        "\n",
        "# Plotting tools\n",
        "import pyLDAvis\n",
        "import pyLDAvis.gensim_models as gensimvis\n",
        "from matplotlib import pyplot as plt\n",
        "%matplotlib inline\n",
        "\n",
        "# Enable logging for gensim - optional\n",
        "import logging\n",
        "logging.basicConfig(format='%(asctime)s : %(levelname)s : %(message)s', level=logging.ERROR)\n",
        "\n",
        "import warnings\n",
        "warnings.filterwarnings(\"ignore\",category=DeprecationWarning)"
      ]
    },
    {
      "cell_type": "code",
      "execution_count": 30,
      "metadata": {
        "id": "8oYx9Z6rVpmK"
      },
      "outputs": [],
      "source": [
        "from gensim.models.phrases import Phrases, Phraser"
      ]
    },
    {
      "cell_type": "code",
      "execution_count": 31,
      "metadata": {
        "id": "tnuCpLWRwxx5"
      },
      "outputs": [],
      "source": [
        "# read dataset\n",
        "# we will be using trained dataset to understand how people are reacting\n",
        "data = pd.read_csv('new_data.csv', encoding='utf-8')"
      ]
    },
    {
      "cell_type": "code",
      "execution_count": 32,
      "metadata": {
        "colab": {
          "base_uri": "https://localhost:8080/",
          "height": 167
        },
        "id": "SVWlm-m_cDu1",
        "outputId": "ff178fa4-8edd-49ff-81e8-640deb8ea2fa"
      },
      "outputs": [
        {
          "data": {
            "text/html": [
              "<div>\n",
              "<style scoped>\n",
              "    .dataframe tbody tr th:only-of-type {\n",
              "        vertical-align: middle;\n",
              "    }\n",
              "\n",
              "    .dataframe tbody tr th {\n",
              "        vertical-align: top;\n",
              "    }\n",
              "\n",
              "    .dataframe thead th {\n",
              "        text-align: right;\n",
              "    }\n",
              "</style>\n",
              "<table border=\"1\" class=\"dataframe\">\n",
              "  <thead>\n",
              "    <tr style=\"text-align: right;\">\n",
              "      <th></th>\n",
              "      <th>Tweet_id</th>\n",
              "      <th>Text</th>\n",
              "      <th>Created_at</th>\n",
              "    </tr>\n",
              "  </thead>\n",
              "  <tbody>\n",
              "    <tr>\n",
              "      <th>count</th>\n",
              "      <td>91936</td>\n",
              "      <td>91928</td>\n",
              "      <td>91923</td>\n",
              "    </tr>\n",
              "    <tr>\n",
              "      <th>unique</th>\n",
              "      <td>12</td>\n",
              "      <td>71595</td>\n",
              "      <td>59337</td>\n",
              "    </tr>\n",
              "    <tr>\n",
              "      <th>top</th>\n",
              "      <td>7.38E+17</td>\n",
              "      <td>RT @TheWeirdWorld: My favorite type of exercis...</td>\n",
              "      <td>2016-06-02 01:58:11+00:00</td>\n",
              "    </tr>\n",
              "    <tr>\n",
              "      <th>freq</th>\n",
              "      <td>73303</td>\n",
              "      <td>496</td>\n",
              "      <td>21</td>\n",
              "    </tr>\n",
              "  </tbody>\n",
              "</table>\n",
              "</div>"
            ],
            "text/plain": [
              "        Tweet_id                                               Text  \\\n",
              "count      91936                                              91928   \n",
              "unique        12                                              71595   \n",
              "top     7.38E+17  RT @TheWeirdWorld: My favorite type of exercis...   \n",
              "freq       73303                                                496   \n",
              "\n",
              "                       Created_at  \n",
              "count                       91923  \n",
              "unique                      59337  \n",
              "top     2016-06-02 01:58:11+00:00  \n",
              "freq                           21  "
            ]
          },
          "execution_count": 32,
          "metadata": {},
          "output_type": "execute_result"
        }
      ],
      "source": [
        "#basic stats\n",
        "data.describe()"
      ]
    },
    {
      "cell_type": "code",
      "execution_count": 33,
      "metadata": {
        "colab": {
          "base_uri": "https://localhost:8080/"
        },
        "id": "Vunx-keHRJHB",
        "outputId": "a1975841-e017-44fb-95ef-8c704bb8882d"
      },
      "outputs": [
        {
          "name": "stdout",
          "output_type": "stream",
          "text": [
            "1778\n"
          ]
        }
      ],
      "source": [
        "### max tweet length\n",
        "df = pd.DataFrame(data, columns=['Text'])\n",
        "max_length = df[df['Text'].apply(lambda x: isinstance(x, str))]['Text'].map(lambda x: len(x)).max()\n",
        "print(max_length)"
      ]
    },
    {
      "cell_type": "code",
      "execution_count": 34,
      "metadata": {
        "id": "Qx8PJjyfxQ6m"
      },
      "outputs": [],
      "source": [
        "df = data.dropna(subset=['Text'])"
      ]
    },
    {
      "cell_type": "code",
      "execution_count": 35,
      "metadata": {
        "colab": {
          "base_uri": "https://localhost:8080/"
        },
        "id": "yRvQnsjHWt15",
        "outputId": "44952435-55eb-4367-d936-3f6e1566c2ce"
      },
      "outputs": [
        {
          "name": "stdout",
          "output_type": "stream",
          "text": [
            "Requirement already satisfied: tweet-preprocessor in c:\\users\\panka\\appdata\\local\\packages\\pythonsoftwarefoundation.python.3.10_qbz5n2kfra8p0\\localcache\\local-packages\\python310\\site-packages (0.6.0)\n"
          ]
        }
      ],
      "source": [
        "!pip install tweet-preprocessor"
      ]
    },
    {
      "cell_type": "code",
      "execution_count": 36,
      "metadata": {
        "id": "DtZ7DQEYxZ6B"
      },
      "outputs": [
        {
          "name": "stderr",
          "output_type": "stream",
          "text": [
            "C:\\Users\\panka\\AppData\\Local\\Temp\\ipykernel_4016\\1588321190.py:2: SettingWithCopyWarning: \n",
            "A value is trying to be set on a copy of a slice from a DataFrame.\n",
            "Try using .loc[row_indexer,col_indexer] = value instead\n",
            "\n",
            "See the caveats in the documentation: https://pandas.pydata.org/pandas-docs/stable/user_guide/indexing.html#returning-a-view-versus-a-copy\n",
            "  df['clean_text'] = df['Text'].apply(lambda text: p.clean(str(text)))\n",
            "C:\\Users\\panka\\AppData\\Local\\Temp\\ipykernel_4016\\1588321190.py:3: SettingWithCopyWarning: \n",
            "A value is trying to be set on a copy of a slice from a DataFrame.\n",
            "Try using .loc[row_indexer,col_indexer] = value instead\n",
            "\n",
            "See the caveats in the documentation: https://pandas.pydata.org/pandas-docs/stable/user_guide/indexing.html#returning-a-view-versus-a-copy\n",
            "  df['clean_text'] = df['clean_text'].apply(lambda text: text.lower())\n",
            "C:\\Users\\panka\\AppData\\Local\\Temp\\ipykernel_4016\\1588321190.py:21: SettingWithCopyWarning: \n",
            "A value is trying to be set on a copy of a slice from a DataFrame.\n",
            "Try using .loc[row_indexer,col_indexer] = value instead\n",
            "\n",
            "See the caveats in the documentation: https://pandas.pydata.org/pandas-docs/stable/user_guide/indexing.html#returning-a-view-versus-a-copy\n",
            "  df['clean_text'] = df['clean_text'].apply(remove_contractions)\n",
            "C:\\Users\\panka\\AppData\\Local\\Temp\\ipykernel_4016\\1588321190.py:22: FutureWarning: The default value of regex will change from True to False in a future version.\n",
            "  df['clean_text'] = df['clean_text'].str.replace('[^\\w\\s]', '')\n",
            "C:\\Users\\panka\\AppData\\Local\\Temp\\ipykernel_4016\\1588321190.py:22: SettingWithCopyWarning: \n",
            "A value is trying to be set on a copy of a slice from a DataFrame.\n",
            "Try using .loc[row_indexer,col_indexer] = value instead\n",
            "\n",
            "See the caveats in the documentation: https://pandas.pydata.org/pandas-docs/stable/user_guide/indexing.html#returning-a-view-versus-a-copy\n",
            "  df['clean_text'] = df['clean_text'].str.replace('[^\\w\\s]', '')\n",
            "C:\\Users\\panka\\AppData\\Local\\Temp\\ipykernel_4016\\1588321190.py:24: SettingWithCopyWarning: \n",
            "A value is trying to be set on a copy of a slice from a DataFrame.\n",
            "Try using .loc[row_indexer,col_indexer] = value instead\n",
            "\n",
            "See the caveats in the documentation: https://pandas.pydata.org/pandas-docs/stable/user_guide/indexing.html#returning-a-view-versus-a-copy\n",
            "  df['clean_text'] = df['clean_text'].apply(lambda text: str(text).strip())\n"
          ]
        }
      ],
      "source": [
        "import preprocessor as p\n",
        "df['clean_text'] = df['Text'].apply(lambda text: p.clean(str(text)))\n",
        "df['clean_text'] = df['clean_text'].apply(lambda text: text.lower())\n",
        "def remove_contractions(text):\n",
        "    text = re.sub(r'’', '\\'', text)\n",
        "    \n",
        "    text = re.sub(r'won\\'t', 'will not', text)\n",
        "    text = re.sub(r'can\\'t', 'can not', text)\n",
        "    \n",
        "    text = re.sub(r'\\'s', ' is', text)\n",
        "    text = re.sub(r'\\'m', ' am', text)\n",
        "    text = re.sub(r'\\'re', ' are', text)\n",
        "    text = re.sub(r'\\'ve', ' have', text)\n",
        "    text = re.sub(r'\\'ll', ' will', text)\n",
        "    text = re.sub(r'\\'d', ' would', text)\n",
        "    text = re.sub(r'\\'t', ' not', text)\n",
        "    text = re.sub(r'n\\'t', ' not', text)\n",
        "    \n",
        "    return text\n",
        "\n",
        "df['clean_text'] = df['clean_text'].apply(remove_contractions)\n",
        "df['clean_text'] = df['clean_text'].str.replace('[^\\w\\s]', '')\n",
        "# Remove whitespaces and empty tweets.\n",
        "df['clean_text'] = df['clean_text'].apply(lambda text: str(text).strip())\n",
        "# Remove empty texts.\n",
        "df = df.drop(df[df['clean_text'] == ''].index)"
      ]
    },
    {
      "cell_type": "code",
      "execution_count": 37,
      "metadata": {
        "colab": {
          "base_uri": "https://localhost:8080/"
        },
        "id": "9MUCVucweQTT",
        "outputId": "50e28813-4c73-4dab-d310-12b41b282157"
      },
      "outputs": [
        {
          "name": "stderr",
          "output_type": "stream",
          "text": [
            "[nltk_data] Downloading package stopwords to\n",
            "[nltk_data]     C:\\Users\\panka\\AppData\\Roaming\\nltk_data...\n",
            "[nltk_data]   Package stopwords is already up-to-date!\n"
          ]
        },
        {
          "data": {
            "text/plain": [
              "True"
            ]
          },
          "execution_count": 37,
          "metadata": {},
          "output_type": "execute_result"
        }
      ],
      "source": [
        "import nltk\n",
        "nltk.download('stopwords')"
      ]
    },
    {
      "cell_type": "code",
      "execution_count": 38,
      "metadata": {
        "id": "txQ4dxA2ca5R"
      },
      "outputs": [],
      "source": [
        "from nltk.corpus import stopwords\n",
        "stop_words = stopwords.words('english')"
      ]
    },
    {
      "cell_type": "markdown",
      "metadata": {
        "id": "6VaecGPVS20u"
      },
      "source": [
        "####Tokenize words and Clean-up text\n",
        "\n",
        "Gensim’s simple_preprocess() is great for this. Additionally I have set deacc=True to remove the punctuations."
      ]
    },
    {
      "cell_type": "code",
      "execution_count": 39,
      "metadata": {
        "colab": {
          "base_uri": "https://localhost:8080/"
        },
        "id": "ccyjJz2eSqGg",
        "outputId": "6e4beb20-6afa-40c0-ab6f-9f6112c408d3"
      },
      "outputs": [
        {
          "name": "stdout",
          "output_type": "stream",
          "text": [
            "[['when', 'the', 'coworkers', 'compliment', 'you', 'on', 'how', 'skinny', 'you', 'lookbut', 'little', 'do', 'they', 'know', 'what', 'your', 'diet', 'really', 'consisted', 'of', 'this', 'weekend']]\n"
          ]
        }
      ],
      "source": [
        "def sent_to_words(sentences):\n",
        "    for sentence in sentences:\n",
        "        yield(gensim.utils.simple_preprocess(str(sentence), deacc=True))  # deacc=True removes punctuations\n",
        "data_text = df['clean_text']\n",
        "data_words = list(sent_to_words(data_text))\n",
        "\n",
        "print(data_words[:1])"
      ]
    },
    {
      "cell_type": "code",
      "execution_count": 40,
      "metadata": {},
      "outputs": [],
      "source": [
        "bigram = gensim.models.Phrases(data_words, min_count=5, threshold=100)\n",
        "trigram = gensim.models.Phrases(bigram[data_words], threshold=100)\n",
        "bigram_mod = gensim.models.phrases.Phraser(bigram)\n",
        "trigram_mod = gensim.models.phrases.Phraser(trigram)"
      ]
    },
    {
      "cell_type": "code",
      "execution_count": 41,
      "metadata": {
        "id": "wZMJMoqQSph7"
      },
      "outputs": [],
      "source": [
        "def remove_stopwords(texts):\n",
        "   return [[word for word in simple_preprocess(str(doc)) \n",
        "   if word not in stop_words] for doc in texts]\n",
        "def make_bigrams(texts):\n",
        "   return [bigram_mod[doc] for doc in texts]\n",
        "def make_trigrams(texts):\n",
        "   return [trigram_mod[bigram_mod[doc]] for doc in texts]\n",
        "def lemmatization(texts, allowed_postags=['NOUN', 'ADJ', 'VERB', 'ADV']):\n",
        "   texts_out = []\n",
        "   for sent in texts:\n",
        "      doc = nlp(\" \".join(sent))\n",
        "      texts_out.append([token.lemma_ for token in doc if token.pos_ in allowed_postags])\n",
        "   return texts_out"
      ]
    },
    {
      "cell_type": "code",
      "execution_count": 42,
      "metadata": {
        "id": "0_Z4HHQESpJv"
      },
      "outputs": [],
      "source": [
        "# Remove Stop Words\n",
        "data_words_nostops = remove_stopwords(data_words)\n",
        "data_words_bigrams = make_bigrams(data_words_nostops)\n",
        "# Initialize spacy 'en' model, keeping only tagger component (for efficiency)\n",
        "# python3 -m spacy download en\n",
        "nlp = spacy.load('en_core_web_sm', disable=['parser', 'ner'])\n",
        "\n",
        "# Do lemmatization keeping only noun, adj, vb, adv\n",
        "data_lemmatized = lemmatization(data_words_bigrams, allowed_postags=['NOUN', 'ADJ', 'VERB', 'ADV'])"
      ]
    },
    {
      "cell_type": "code",
      "execution_count": 43,
      "metadata": {
        "colab": {
          "base_uri": "https://localhost:8080/"
        },
        "id": "Zjd-6ZtLxnZr",
        "outputId": "4aff74cf-2394-4784-9bca-edd5608f7380"
      },
      "outputs": [
        {
          "name": "stdout",
          "output_type": "stream",
          "text": [
            "[['coworker', 'compliment', 'skinny', 'little', 'really', 'consist', 'weekend']]\n"
          ]
        }
      ],
      "source": [
        "print(data_lemmatized[:1])"
      ]
    },
    {
      "cell_type": "markdown",
      "metadata": {
        "id": "tlW-hTmaO5E4"
      },
      "source": [
        "### Create the Dictionary and Corpus needed for Topic Modeling"
      ]
    },
    {
      "cell_type": "code",
      "execution_count": 44,
      "metadata": {
        "colab": {
          "base_uri": "https://localhost:8080/"
        },
        "id": "8c3kH5UiXyeM",
        "outputId": "bab1f084-e617-441c-98f1-5e984748fd88"
      },
      "outputs": [
        {
          "name": "stdout",
          "output_type": "stream",
          "text": [
            "[[(0, 1), (1, 1), (2, 1), (3, 1), (4, 1), (5, 1), (6, 1)]]\n"
          ]
        }
      ],
      "source": [
        "# Create Dictionary\n",
        "id2word = corpora.Dictionary(data_lemmatized)\n",
        "\n",
        "# Create Corpus\n",
        "texts = data_lemmatized\n",
        "\n",
        "# Term Document Frequency\n",
        "corpus = [id2word.doc2bow(text) for text in texts]\n",
        "\n",
        "# View\n",
        "print(corpus[:1])"
      ]
    },
    {
      "cell_type": "code",
      "execution_count": 45,
      "metadata": {
        "colab": {
          "base_uri": "https://localhost:8080/",
          "height": 35
        },
        "id": "iGRHx0wZXyPd",
        "outputId": "ee0c403e-4872-4506-e21f-171ffdaf6c95"
      },
      "outputs": [
        {
          "data": {
            "text/plain": [
              "'compliment'"
            ]
          },
          "execution_count": 45,
          "metadata": {},
          "output_type": "execute_result"
        }
      ],
      "source": [
        "id2word[0]"
      ]
    },
    {
      "cell_type": "code",
      "execution_count": 46,
      "metadata": {
        "colab": {
          "base_uri": "https://localhost:8080/"
        },
        "id": "CNji9b7DXyAU",
        "outputId": "36c99d2a-33b9-45ce-fcbb-26082f9c26c3"
      },
      "outputs": [
        {
          "data": {
            "text/plain": [
              "[[('compliment', 1),\n",
              "  ('consist', 1),\n",
              "  ('coworker', 1),\n",
              "  ('little', 1),\n",
              "  ('really', 1),\n",
              "  ('skinny', 1),\n",
              "  ('weekend', 1)]]"
            ]
          },
          "execution_count": 46,
          "metadata": {},
          "output_type": "execute_result"
        }
      ],
      "source": [
        "# Human readable format of corpus (term-frequency)\n",
        "[[(id2word[id], freq) for id, freq in cp] for cp in corpus[:1]]"
      ]
    },
    {
      "cell_type": "code",
      "execution_count": 47,
      "metadata": {
        "id": "GYOP-fEZXwvZ"
      },
      "outputs": [],
      "source": [
        "#Building LDA Mallet Model\n",
        "ldamallet = gensim.models.ldamodel.LdaModel(corpus=corpus, num_topics=20, id2word=id2word, chunksize=100)"
      ]
    },
    {
      "cell_type": "code",
      "execution_count": null,
      "metadata": {},
      "outputs": [],
      "source": []
    },
    {
      "cell_type": "code",
      "execution_count": 48,
      "metadata": {
        "colab": {
          "base_uri": "https://localhost:8080/"
        },
        "id": "uWT8mX4GYk0M",
        "outputId": "881b28ec-1d2b-4546-a9c0-13c411cfe116"
      },
      "outputs": [
        {
          "name": "stdout",
          "output_type": "stream",
          "text": [
            "[(13,\n",
            "  [('m', 0.44907677),\n",
            "   ('ugly', 2.1493071e-05),\n",
            "   ('mad', 2.1488764e-05),\n",
            "   ('fucking', 2.1487202e-05),\n",
            "   ('sad', 2.1487052e-05),\n",
            "   ('lay', 2.1485226e-05),\n",
            "   ('joint', 2.1485033e-05),\n",
            "   ('headddd', 2.148476e-05),\n",
            "   ('smash', 2.148476e-05),\n",
            "   ('ting', 2.148476e-05)]),\n",
            " (6,\n",
            "  [('take', 0.23625834),\n",
            "   ('let', 0.099893816),\n",
            "   ('gain', 0.075522535),\n",
            "   ('hot', 0.06574743),\n",
            "   ('hard', 0.058067698),\n",
            "   ('energy', 0.03745173),\n",
            "   ('stay', 0.033659354),\n",
            "   ('health', 0.030344998),\n",
            "   ('offer', 0.026492633),\n",
            "   ('word', 0.025715021)]),\n",
            " (14,\n",
            "  [('lose', 0.29577115),\n",
            "   ('loss', 0.24989974),\n",
            "   ('weight', 0.15823603),\n",
            "   ('diet', 0.15593594),\n",
            "   ('http', 0.042805124),\n",
            "   ('add', 0.02078356),\n",
            "   ('body', 3.0043843e-06),\n",
            "   ('plan', 2.9911196e-06),\n",
            "   ('fast', 2.9907749e-06),\n",
            "   ('made_possible', 2.9897737e-06)]),\n",
            " (15,\n",
            "  [('know', 0.39562467),\n",
            "   ('today', 0.14782068),\n",
            "   ('thing', 0.10657205),\n",
            "   ('coffee', 0.032813713),\n",
            "   ('complete', 0.026881551),\n",
            "   ('hear', 0.026729466),\n",
            "   ('boost', 0.021855365),\n",
            "   ('far', 0.016702203),\n",
            "   ('provide', 0.006042915),\n",
            "   ('think', 8.553311e-06)]),\n",
            " (4,\n",
            "  [('see', 0.21556088),\n",
            "   ('time', 0.16970094),\n",
            "   ('feel', 0.122992024),\n",
            "   ('watch', 0.098884545),\n",
            "   ('fit', 0.049821988),\n",
            "   ('hit', 0.04826136),\n",
            "   ('walk', 0.044412836),\n",
            "   ('link', 0.033410545),\n",
            "   ('shape', 0.026521226),\n",
            "   ('forget', 0.020282112)]),\n",
            " (0,\n",
            "  [('people', 0.22067584),\n",
            "   ('belly', 0.21688077),\n",
            "   ('say', 0.14621317),\n",
            "   ('ever', 0.06621354),\n",
            "   ('miss', 0.036950227),\n",
            "   ('check', 0.0354855),\n",
            "   ('water', 0.033491995),\n",
            "   ('great', 0.032239717),\n",
            "   ('book', 0.021315116),\n",
            "   ('pound', 0.020565845)]),\n",
            " (12,\n",
            "  [('fat', 0.93093264),\n",
            "   ('new', 0.018899933),\n",
            "   ('burning', 0.01138935),\n",
            "   ('healthy', 0.011172436),\n",
            "   ('post', 0.0061519397),\n",
            "   ('increase', 0.002933716),\n",
            "   ('diabetes', 0.00026041095),\n",
            "   ('body', 7.143324e-07),\n",
            "   ('think', 7.130559e-07),\n",
            "   ('big', 7.1299655e-07)]),\n",
            " (7,\n",
            "  [('change', 0.43110776),\n",
            "   ('ready', 0.05071571),\n",
            "   ('mind', 0.04805808),\n",
            "   ('consider', 0.022402626),\n",
            "   ('dieting', 0.009516409),\n",
            "   ('stubborn_belly', 1.7141696e-05),\n",
            "   ('body', 1.7089556e-05),\n",
            "   ('woman', 1.7088452e-05),\n",
            "   ('many', 1.7084858e-05),\n",
            "   ('think', 1.708477e-05)]),\n",
            " (5,\n",
            "  [('serviceman', 3.8957493e-05),\n",
            "   ('stressinduce', 3.8957493e-05),\n",
            "   ('president_buhari', 3.8957493e-05),\n",
            "   ('commando', 3.8957493e-05),\n",
            "   ('helicopter', 3.8957493e-05),\n",
            "   ('haaa', 3.8957493e-05),\n",
            "   ('socialising', 3.8957493e-05),\n",
            "   ('morale', 3.8957493e-05),\n",
            "   ('superb', 3.8957493e-05),\n",
            "   ('botch', 3.8957493e-05)]),\n",
            " (18,\n",
            "  [('need', 0.416349),\n",
            "   ('girl', 0.3620103),\n",
            "   ('gym', 0.0456587),\n",
            "   ('call', 6.8708214e-06),\n",
            "   ('picture', 6.8683958e-06),\n",
            "   ('said_photoshop', 6.868327e-06),\n",
            "   ('blunt', 6.8674394e-06),\n",
            "   ('stubborn_belly', 6.8664904e-06),\n",
            "   ('heart', 6.8644767e-06),\n",
            "   ('think', 6.864388e-06)])]\n",
            "\n",
            "Coherence Score:  0.35382577418977507\n"
          ]
        }
      ],
      "source": [
        "# Show Topics\n",
        "pprint(ldamallet.show_topics(formatted=False))\n",
        "\n",
        "# Compute Coherence Score\n",
        "coherence_model_ldamallet = CoherenceModel(model=ldamallet, texts=data_lemmatized, dictionary=id2word, coherence='c_v')\n",
        "coherence_ldamallet = coherence_model_ldamallet.get_coherence()\n",
        "print('\\nCoherence Score: ', coherence_ldamallet)"
      ]
    },
    {
      "cell_type": "code",
      "execution_count": 49,
      "metadata": {
        "id": "jAhA_2u8YqBx"
      },
      "outputs": [],
      "source": [
        "#How to find the optimal number of topics for LDA?\n",
        "def compute_coherence_values(dictionary, corpus, texts, limit, start=2, step=3):\n",
        "    \"\"\"\n",
        "    Compute c_v coherence for various number of topics\n",
        "\n",
        "    Parameters:\n",
        "    ----------\n",
        "    dictionary : Gensim dictionary\n",
        "    corpus : Gensim corpus\n",
        "    texts : List of input texts\n",
        "    limit : Max num of topics\n",
        "\n",
        "    Returns:\n",
        "    -------\n",
        "    model_list : List of LDA topic models\n",
        "    coherence_values : Coherence values corresponding to the LDA model with respective number of topics\n",
        "    \"\"\"\n",
        "    coherence_values = []\n",
        "    model_list = []\n",
        "    for num_topics in range(start, limit, step):\n",
        "        model = gensim.models.ldamodel.LdaModel(corpus=corpus, num_topics=num_topics, id2word=id2word)\n",
        "        model_list.append(model)\n",
        "        coherencemodel = CoherenceModel(model=model, texts=texts, dictionary=dictionary, coherence='c_v')\n",
        "        coherence_values.append(coherencemodel.get_coherence())\n",
        "\n",
        "    return model_list, coherence_values"
      ]
    },
    {
      "cell_type": "code",
      "execution_count": 50,
      "metadata": {
        "id": "hvBxxdzYYpzU"
      },
      "outputs": [],
      "source": [
        "model_list, coherence_values = compute_coherence_values(dictionary=id2word, corpus=corpus, texts=data_lemmatized, start=2, limit=300, step=4)"
      ]
    },
    {
      "cell_type": "code",
      "execution_count": 1,
      "metadata": {
        "colab": {
          "base_uri": "https://localhost:8080/",
          "height": 334
        },
        "id": "p5Kf5wCQYpmQ",
        "outputId": "e96e7d35-d1c2-49b6-84f9-b1fede949054"
      },
      "outputs": [],
      "source": [
        "# Show graph\n",
        "limit=300; start=2; step=4;\n",
        "x = range(start, limit, step)\n",
        "plt.plot(x, coherence_values)\n",
        "plt.xlabel(\"Num Topics\")\n",
        "plt.ylabel(\"Coherence score\")\n",
        "plt.legend((\"coherence_values\"), loc='best')\n",
        "plt.show()"
      ]
    },
    {
      "cell_type": "code",
      "execution_count": null,
      "metadata": {
        "colab": {
          "base_uri": "https://localhost:8080/"
        },
        "id": "gsVH8G3vYpSN",
        "outputId": "fa921fc0-cc17-477a-be5b-6f9a0d30e8f5"
      },
      "outputs": [
        {
          "name": "stdout",
          "output_type": "stream",
          "text": [
            "Num Topics = 2  has Coherence Value of 0.4177\n",
            "Num Topics = 6  has Coherence Value of 0.3706\n",
            "Num Topics = 10  has Coherence Value of 0.3989\n",
            "Num Topics = 14  has Coherence Value of 0.4095\n",
            "Num Topics = 18  has Coherence Value of 0.4055\n",
            "Num Topics = 22  has Coherence Value of 0.4091\n",
            "Num Topics = 26  has Coherence Value of 0.4349\n",
            "Num Topics = 30  has Coherence Value of 0.469\n",
            "Num Topics = 34  has Coherence Value of 0.4894\n",
            "Num Topics = 38  has Coherence Value of 0.5162\n",
            "Num Topics = 42  has Coherence Value of 0.5193\n",
            "Num Topics = 46  has Coherence Value of 0.5298\n",
            "Num Topics = 50  has Coherence Value of 0.5265\n",
            "Num Topics = 54  has Coherence Value of 0.5141\n",
            "Num Topics = 58  has Coherence Value of 0.5061\n",
            "Num Topics = 62  has Coherence Value of 0.4984\n",
            "Num Topics = 66  has Coherence Value of 0.4765\n",
            "Num Topics = 70  has Coherence Value of 0.45\n",
            "Num Topics = 74  has Coherence Value of 0.4154\n",
            "Num Topics = 78  has Coherence Value of 0.399\n",
            "Num Topics = 82  has Coherence Value of 0.3683\n",
            "Num Topics = 86  has Coherence Value of 0.3552\n",
            "Num Topics = 90  has Coherence Value of 0.3239\n",
            "Num Topics = 94  has Coherence Value of 0.2922\n",
            "Num Topics = 98  has Coherence Value of 0.3041\n",
            "Num Topics = 102  has Coherence Value of 0.2897\n",
            "Num Topics = 106  has Coherence Value of 0.2922\n",
            "Num Topics = 110  has Coherence Value of 0.3121\n",
            "Num Topics = 114  has Coherence Value of 0.3209\n",
            "Num Topics = 118  has Coherence Value of 0.3179\n",
            "Num Topics = 122  has Coherence Value of 0.3266\n",
            "Num Topics = 126  has Coherence Value of 0.3247\n",
            "Num Topics = 130  has Coherence Value of 0.3308\n",
            "Num Topics = 134  has Coherence Value of 0.321\n",
            "Num Topics = 138  has Coherence Value of 0.3156\n",
            "Num Topics = 142  has Coherence Value of 0.3123\n",
            "Num Topics = 146  has Coherence Value of 0.3116\n",
            "Num Topics = 150  has Coherence Value of 0.3052\n",
            "Num Topics = 154  has Coherence Value of 0.2983\n",
            "Num Topics = 158  has Coherence Value of 0.2983\n",
            "Num Topics = 162  has Coherence Value of 0.2997\n",
            "Num Topics = 166  has Coherence Value of 0.2918\n",
            "Num Topics = 170  has Coherence Value of 0.2932\n",
            "Num Topics = 174  has Coherence Value of 0.2912\n",
            "Num Topics = 178  has Coherence Value of 0.2935\n",
            "Num Topics = 182  has Coherence Value of 0.2906\n",
            "Num Topics = 186  has Coherence Value of 0.2881\n",
            "Num Topics = 190  has Coherence Value of 0.2889\n",
            "Num Topics = 194  has Coherence Value of 0.2889\n",
            "Num Topics = 198  has Coherence Value of 0.2881\n",
            "Num Topics = 202  has Coherence Value of 0.2881\n",
            "Num Topics = 206  has Coherence Value of 0.2881\n",
            "Num Topics = 210  has Coherence Value of 0.2888\n",
            "Num Topics = 214  has Coherence Value of 0.2881\n",
            "Num Topics = 218  has Coherence Value of 0.2881\n"
          ]
        }
      ],
      "source": [
        "# Print the coherence scores\n",
        "for m, cv in zip(x, coherence_values):\n",
        "    print(\"Num Topics =\", m, \" has Coherence Value of\", round(cv, 4))"
      ]
    },
    {
      "cell_type": "code",
      "execution_count": null,
      "metadata": {
        "colab": {
          "base_uri": "https://localhost:8080/"
        },
        "id": "Yrw5gGMgXxfi",
        "outputId": "6ee2189e-4bb1-4243-a61c-caa462cd121d"
      },
      "outputs": [
        {
          "name": "stdout",
          "output_type": "stream",
          "text": [
            "[(63,\n",
            "  '0.000*\"comman\" + 0.000*\"selfdelusion\" + 0.000*\"actuarial\" + '\n",
            "  '0.000*\"lowimpact\" + 0.000*\"corrupt\" + 0.000*\"amptransmitte\" + '\n",
            "  '0.000*\"stampede\" + 0.000*\"duckling\" + 0.000*\"wee\" + 0.000*\"plsif\"'),\n",
            " (191,\n",
            "  '0.000*\"comman\" + 0.000*\"selfdelusion\" + 0.000*\"actuarial\" + '\n",
            "  '0.000*\"lowimpact\" + 0.000*\"corrupt\" + 0.000*\"amptransmitte\" + '\n",
            "  '0.000*\"stampede\" + 0.000*\"duckling\" + 0.000*\"wee\" + 0.000*\"plsif\"'),\n",
            " (76,\n",
            "  '0.000*\"comman\" + 0.000*\"selfdelusion\" + 0.000*\"actuarial\" + '\n",
            "  '0.000*\"lowimpact\" + 0.000*\"corrupt\" + 0.000*\"amptransmitte\" + '\n",
            "  '0.000*\"stampede\" + 0.000*\"duckling\" + 0.000*\"wee\" + 0.000*\"plsif\"'),\n",
            " (131,\n",
            "  '0.000*\"comman\" + 0.000*\"selfdelusion\" + 0.000*\"actuarial\" + '\n",
            "  '0.000*\"lowimpact\" + 0.000*\"corrupt\" + 0.000*\"amptransmitte\" + '\n",
            "  '0.000*\"stampede\" + 0.000*\"duckling\" + 0.000*\"wee\" + 0.000*\"plsif\"'),\n",
            " (106,\n",
            "  '0.000*\"comman\" + 0.000*\"selfdelusion\" + 0.000*\"actuarial\" + '\n",
            "  '0.000*\"lowimpact\" + 0.000*\"corrupt\" + 0.000*\"amptransmitte\" + '\n",
            "  '0.000*\"stampede\" + 0.000*\"duckling\" + 0.000*\"wee\" + 0.000*\"plsif\"'),\n",
            " (34,\n",
            "  '0.000*\"comman\" + 0.000*\"selfdelusion\" + 0.000*\"actuarial\" + '\n",
            "  '0.000*\"lowimpact\" + 0.000*\"corrupt\" + 0.000*\"amptransmitte\" + '\n",
            "  '0.000*\"stampede\" + 0.000*\"duckling\" + 0.000*\"wee\" + 0.000*\"plsif\"'),\n",
            " (239,\n",
            "  '0.000*\"comman\" + 0.000*\"selfdelusion\" + 0.000*\"actuarial\" + '\n",
            "  '0.000*\"lowimpact\" + 0.000*\"corrupt\" + 0.000*\"amptransmitte\" + '\n",
            "  '0.000*\"stampede\" + 0.000*\"duckling\" + 0.000*\"wee\" + 0.000*\"plsif\"'),\n",
            " (92,\n",
            "  '0.000*\"comman\" + 0.000*\"selfdelusion\" + 0.000*\"actuarial\" + '\n",
            "  '0.000*\"lowimpact\" + 0.000*\"corrupt\" + 0.000*\"amptransmitte\" + '\n",
            "  '0.000*\"stampede\" + 0.000*\"duckling\" + 0.000*\"wee\" + 0.000*\"plsif\"'),\n",
            " (182,\n",
            "  '0.000*\"comman\" + 0.000*\"selfdelusion\" + 0.000*\"actuarial\" + '\n",
            "  '0.000*\"lowimpact\" + 0.000*\"corrupt\" + 0.000*\"amptransmitte\" + '\n",
            "  '0.000*\"stampede\" + 0.000*\"duckling\" + 0.000*\"wee\" + 0.000*\"plsif\"'),\n",
            " (156,\n",
            "  '0.000*\"comman\" + 0.000*\"selfdelusion\" + 0.000*\"actuarial\" + '\n",
            "  '0.000*\"lowimpact\" + 0.000*\"corrupt\" + 0.000*\"amptransmitte\" + '\n",
            "  '0.000*\"stampede\" + 0.000*\"duckling\" + 0.000*\"wee\" + 0.000*\"plsif\"'),\n",
            " (101,\n",
            "  '0.000*\"comman\" + 0.000*\"selfdelusion\" + 0.000*\"actuarial\" + '\n",
            "  '0.000*\"lowimpact\" + 0.000*\"corrupt\" + 0.000*\"amptransmitte\" + '\n",
            "  '0.000*\"stampede\" + 0.000*\"duckling\" + 0.000*\"wee\" + 0.000*\"plsif\"'),\n",
            " (35,\n",
            "  '0.000*\"comman\" + 0.000*\"selfdelusion\" + 0.000*\"actuarial\" + '\n",
            "  '0.000*\"lowimpact\" + 0.000*\"corrupt\" + 0.000*\"amptransmitte\" + '\n",
            "  '0.000*\"stampede\" + 0.000*\"duckling\" + 0.000*\"wee\" + 0.000*\"plsif\"'),\n",
            " (108,\n",
            "  '0.000*\"comman\" + 0.000*\"selfdelusion\" + 0.000*\"actuarial\" + '\n",
            "  '0.000*\"lowimpact\" + 0.000*\"corrupt\" + 0.000*\"amptransmitte\" + '\n",
            "  '0.000*\"stampede\" + 0.000*\"duckling\" + 0.000*\"wee\" + 0.000*\"plsif\"'),\n",
            " (37,\n",
            "  '0.000*\"comman\" + 0.000*\"selfdelusion\" + 0.000*\"actuarial\" + '\n",
            "  '0.000*\"lowimpact\" + 0.000*\"corrupt\" + 0.000*\"amptransmitte\" + '\n",
            "  '0.000*\"stampede\" + 0.000*\"duckling\" + 0.000*\"wee\" + 0.000*\"plsif\"'),\n",
            " (152,\n",
            "  '0.000*\"comman\" + 0.000*\"selfdelusion\" + 0.000*\"actuarial\" + '\n",
            "  '0.000*\"lowimpact\" + 0.000*\"corrupt\" + 0.000*\"amptransmitte\" + '\n",
            "  '0.000*\"stampede\" + 0.000*\"duckling\" + 0.000*\"wee\" + 0.000*\"plsif\"'),\n",
            " (183,\n",
            "  '0.000*\"comman\" + 0.000*\"selfdelusion\" + 0.000*\"actuarial\" + '\n",
            "  '0.000*\"lowimpact\" + 0.000*\"corrupt\" + 0.000*\"amptransmitte\" + '\n",
            "  '0.000*\"stampede\" + 0.000*\"duckling\" + 0.000*\"wee\" + 0.000*\"plsif\"'),\n",
            " (80,\n",
            "  '0.000*\"comman\" + 0.000*\"selfdelusion\" + 0.000*\"actuarial\" + '\n",
            "  '0.000*\"lowimpact\" + 0.000*\"corrupt\" + 0.000*\"amptransmitte\" + '\n",
            "  '0.000*\"stampede\" + 0.000*\"duckling\" + 0.000*\"wee\" + 0.000*\"plsif\"'),\n",
            " (280,\n",
            "  '0.000*\"comman\" + 0.000*\"selfdelusion\" + 0.000*\"actuarial\" + '\n",
            "  '0.000*\"lowimpact\" + 0.000*\"corrupt\" + 0.000*\"amptransmitte\" + '\n",
            "  '0.000*\"stampede\" + 0.000*\"duckling\" + 0.000*\"wee\" + 0.000*\"plsif\"'),\n",
            " (276,\n",
            "  '0.000*\"comman\" + 0.000*\"selfdelusion\" + 0.000*\"actuarial\" + '\n",
            "  '0.000*\"lowimpact\" + 0.000*\"corrupt\" + 0.000*\"amptransmitte\" + '\n",
            "  '0.000*\"stampede\" + 0.000*\"duckling\" + 0.000*\"wee\" + 0.000*\"plsif\"'),\n",
            " (22,\n",
            "  '0.000*\"comman\" + 0.000*\"selfdelusion\" + 0.000*\"actuarial\" + '\n",
            "  '0.000*\"lowimpact\" + 0.000*\"corrupt\" + 0.000*\"amptransmitte\" + '\n",
            "  '0.000*\"stampede\" + 0.000*\"duckling\" + 0.000*\"wee\" + 0.000*\"plsif\"')]\n"
          ]
        }
      ],
      "source": [
        "# Select the model and print the sub-topics\n",
        "optimal_model = model_list[57]\n",
        "model_topics = optimal_model.show_topics(formatted=False)\n",
        "pprint(optimal_model.print_topics(num_words=10))"
      ]
    }
  ],
  "metadata": {
    "colab": {
      "collapsed_sections": [],
      "name": "WSC_752.ipynb",
      "provenance": [],
      "toc_visible": true
    },
    "kernelspec": {
      "display_name": "Python 3",
      "name": "python3"
    },
    "language_info": {
      "codemirror_mode": {
        "name": "ipython",
        "version": 3
      },
      "file_extension": ".py",
      "mimetype": "text/x-python",
      "name": "python",
      "nbconvert_exporter": "python",
      "pygments_lexer": "ipython3",
      "version": "3.10.11"
    }
  },
  "nbformat": 4,
  "nbformat_minor": 0
}
