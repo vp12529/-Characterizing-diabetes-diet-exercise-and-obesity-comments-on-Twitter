{
 "cells": [
  {
   "cell_type": "code",
   "execution_count": 2,
   "metadata": {},
   "outputs": [],
   "source": [
    "import re\n",
    "import numpy as np\n",
    "import pandas as pd\n",
    "from pprint import pprint\n",
    "import gensim\n",
    "import gensim.corpora as corpora\n",
    "from gensim.utils import simple_preprocess\n",
    "from gensim.models import CoherenceModel\n",
    "import spacy\n",
    "import matplotlib.pyplot as plt"
   ]
  },
  {
   "cell_type": "code",
   "execution_count": 3,
   "metadata": {},
   "outputs": [
    {
     "name": "stdout",
     "output_type": "stream",
     "text": [
      "91928\n"
     ]
    },
    {
     "data": {
      "text/plain": [
       "0    When the coworkers compliment you on how skinn...\n",
       "1    Shape up this summer with @QLuxSpa! #waisttrai...\n",
       "2    How to remove 400 #calories from your #diet wi...\n",
       "3    Heartburn Acid Reflux &amp; GERD Diet Cure Wit...\n",
       "4    David Zinczenko - the \"Abs Diet\" and \"Zero Bel...\n",
       "Name: Text, dtype: object"
      ]
     },
     "execution_count": 3,
     "metadata": {},
     "output_type": "execute_result"
    }
   ],
   "source": [
    "df = pd.read_csv('new_data.csv').dropna(subset=['Text'])\n",
    "\n",
    "print(len(df.index))\n",
    "df['Text'].head()\n"
   ]
  },
  {
   "cell_type": "code",
   "execution_count": 4,
   "metadata": {},
   "outputs": [
    {
     "data": {
      "text/plain": [
       "0    When the coworkers compliment you on how skinn...\n",
       "1                          Shape up this summer with !\n",
       "2              How to remove from your without effort?\n",
       "3    Heartburn Acid Reflux &amp; GERD Diet Cure Wit...\n",
       "4    David Zinczenko - the \"Abs Diet\" and \"Zero Bel...\n",
       "Name: clean_text, dtype: object"
      ]
     },
     "execution_count": 4,
     "metadata": {},
     "output_type": "execute_result"
    }
   ],
   "source": [
    "import preprocessor as p\n",
    "\n",
    "df['clean_text'] = df['Text'].apply(lambda text: p.clean(str(text)))\n",
    "\n",
    "df['clean_text'].head()"
   ]
  },
  {
   "cell_type": "code",
   "execution_count": 5,
   "metadata": {},
   "outputs": [],
   "source": [
    "df.sort_values(\"Text\", inplace = True)\n",
    "# dropping ALL duplicte values\n",
    "df.drop_duplicates(subset =\"Text\",keep = False, inplace = True)"
   ]
  },
  {
   "cell_type": "code",
   "execution_count": 6,
   "metadata": {},
   "outputs": [
    {
     "data": {
      "text/plain": [
       "34046                                     !dile a la ! ...\n",
       "20327    \" eating good , looking good , feeling good an...\n",
       "84720            \" fat kat, they call tht bitch garfield \"\n",
       "63664    \" how are you going to exercise that decree wi...\n",
       "53235      \" i exercise at length so electrify the fence.\"\n",
       "Name: clean_text, dtype: object"
      ]
     },
     "execution_count": 6,
     "metadata": {},
     "output_type": "execute_result"
    }
   ],
   "source": [
    "df['clean_text'] = df['clean_text'].apply(lambda text: text.lower())\n",
    "\n",
    "df['clean_text'].head()"
   ]
  },
  {
   "cell_type": "code",
   "execution_count": 7,
   "metadata": {},
   "outputs": [
    {
     "data": {
      "text/plain": [
       "34046                                     !dile a la ! ...\n",
       "20327    \" eating good , looking good , feeling good an...\n",
       "84720            \" fat kat, they call tht bitch garfield \"\n",
       "63664    \" how are you going to exercise that decree wi...\n",
       "53235      \" i exercise at length so electrify the fence.\"\n",
       "Name: clean_text, dtype: object"
      ]
     },
     "execution_count": 7,
     "metadata": {},
     "output_type": "execute_result"
    }
   ],
   "source": [
    "import re\n",
    "\n",
    "def remove_contractions(text):\n",
    "    text = re.sub(r'’', '\\'', text)\n",
    "    \n",
    "    text = re.sub(r'won\\'t', 'will not', text)\n",
    "    text = re.sub(r'can\\'t', 'can not', text)\n",
    "    \n",
    "    text = re.sub(r'\\'s', ' is', text)\n",
    "    text = re.sub(r'\\'m', ' am', text)\n",
    "    text = re.sub(r'\\'re', ' are', text)\n",
    "    text = re.sub(r'\\'ve', ' have', text)\n",
    "    text = re.sub(r'\\'ll', ' will', text)\n",
    "    text = re.sub(r'\\'d', ' would', text)\n",
    "    text = re.sub(r'\\'t', ' not', text)\n",
    "    text = re.sub(r'n\\'t', ' not', text)\n",
    "    \n",
    "    return text\n",
    "\n",
    "df['clean_text'] = df['clean_text'].apply(remove_contractions)\n",
    "\n",
    "df['clean_text'].head()"
   ]
  },
  {
   "cell_type": "code",
   "execution_count": 8,
   "metadata": {},
   "outputs": [
    {
     "name": "stderr",
     "output_type": "stream",
     "text": [
      "C:\\Users\\panka\\AppData\\Local\\Temp\\ipykernel_1028\\3609691566.py:1: FutureWarning: The default value of regex will change from True to False in a future version.\n",
      "  df['clean_text'] = df['clean_text'].str.replace('[^\\w\\s]', '')\n"
     ]
    },
    {
     "data": {
      "text/plain": [
       "34046                                          dile a la  \n",
       "20327     eating good  looking good  feeling good and i...\n",
       "84720                fat kat they call tht bitch garfield \n",
       "63664     how are you going to exercise that decree win...\n",
       "53235          i exercise at length so electrify the fence\n",
       "Name: clean_text, dtype: object"
      ]
     },
     "execution_count": 8,
     "metadata": {},
     "output_type": "execute_result"
    }
   ],
   "source": [
    "df['clean_text'] = df['clean_text'].str.replace('[^\\w\\s]', '')\n",
    "\n",
    "df['clean_text'].head()"
   ]
  },
  {
   "cell_type": "code",
   "execution_count": 9,
   "metadata": {},
   "outputs": [
    {
     "data": {
      "text/plain": [
       "34046                                            dile a la\n",
       "20327    eating good  looking good  feeling good and it...\n",
       "84720                 fat kat they call tht bitch garfield\n",
       "63664    how are you going to exercise that decree wine...\n",
       "53235          i exercise at length so electrify the fence\n",
       "Name: clean_text, dtype: object"
      ]
     },
     "execution_count": 9,
     "metadata": {},
     "output_type": "execute_result"
    }
   ],
   "source": [
    "# Remove whitespaces.\n",
    "\n",
    "df['clean_text'] = df['clean_text'].apply(lambda text: str(text).strip())\n",
    "\n",
    "df['clean_text'].head()"
   ]
  },
  {
   "cell_type": "code",
   "execution_count": 10,
   "metadata": {},
   "outputs": [
    {
     "name": "stdout",
     "output_type": "stream",
     "text": [
      "65003\n"
     ]
    },
    {
     "data": {
      "text/plain": [
       "34046                                            dile a la\n",
       "20327    eating good  looking good  feeling good and it...\n",
       "84720                 fat kat they call tht bitch garfield\n",
       "63664    how are you going to exercise that decree wine...\n",
       "53235          i exercise at length so electrify the fence\n",
       "Name: clean_text, dtype: object"
      ]
     },
     "execution_count": 10,
     "metadata": {},
     "output_type": "execute_result"
    }
   ],
   "source": [
    "# Remove empty texts.\n",
    "\n",
    "df = df.drop(df[df['clean_text'] == ''].index)\n",
    "\n",
    "print(len(df.index))\n",
    "df['clean_text'].head()"
   ]
  },
  {
   "cell_type": "code",
   "execution_count": 11,
   "metadata": {},
   "outputs": [
    {
     "name": "stderr",
     "output_type": "stream",
     "text": [
      "[nltk_data] Downloading package words to\n",
      "[nltk_data]     C:\\Users\\panka\\AppData\\Roaming\\nltk_data...\n",
      "[nltk_data]   Package words is already up-to-date!\n"
     ]
    },
    {
     "data": {
      "text/plain": [
       "True"
      ]
     },
     "execution_count": 11,
     "metadata": {},
     "output_type": "execute_result"
    }
   ],
   "source": [
    "import nltk\n",
    "nltk.download('words')"
   ]
  },
  {
   "cell_type": "code",
   "execution_count": 12,
   "metadata": {},
   "outputs": [
    {
     "data": {
      "text/plain": [
       "34046                                                 a la\n",
       "20327    eating good looking good feeling good and it i...\n",
       "84720                              fat kat they call bitch\n",
       "63664    how are you going to exercise that decree wine...\n",
       "53235          i exercise at length so electrify the fence\n",
       "Name: clean_text, dtype: object"
      ]
     },
     "execution_count": 12,
     "metadata": {},
     "output_type": "execute_result"
    }
   ],
   "source": [
    "# Remove non-English words.\n",
    "from nltk.corpus import words\n",
    "words = set(words.words())\n",
    "\n",
    "df['clean_text'] = df['clean_text'].apply(lambda text: ' '.join(word for word in text.split() if word in words))\n",
    "\n",
    "df['clean_text'].head()"
   ]
  },
  {
   "cell_type": "code",
   "execution_count": 13,
   "metadata": {},
   "outputs": [],
   "source": [
    "from nltk.corpus import stopwords\n",
    "stop_words = stopwords.words('english')\n",
    "stop_words.extend(['from', 'subject', 're', 'edu', 'use'])"
   ]
  },
  {
   "cell_type": "code",
   "execution_count": 14,
   "metadata": {},
   "outputs": [],
   "source": [
    "def sent_to_words(sentences):\n",
    "   for sentence in sentences:\n",
    "      yield(gensim.utils.simple_preprocess(str(sentence), deacc=True))\n",
    "data_words = list(sent_to_words(df['clean_text']))"
   ]
  },
  {
   "cell_type": "code",
   "execution_count": 15,
   "metadata": {},
   "outputs": [],
   "source": [
    "bigram = gensim.models.Phrases(data_words, min_count=5, threshold=100)\n",
    "trigram = gensim.models.Phrases(bigram[data_words], threshold=100)\n",
    "bigram_mod = gensim.models.phrases.Phraser(bigram)\n",
    "trigram_mod = gensim.models.phrases.Phraser(trigram)"
   ]
  },
  {
   "cell_type": "code",
   "execution_count": 16,
   "metadata": {},
   "outputs": [],
   "source": [
    "def remove_stopwords(texts):\n",
    "   return [[word for word in simple_preprocess(str(doc)) \n",
    "   if word not in stop_words] for doc in texts]\n",
    "def make_bigrams(texts):\n",
    "   return [bigram_mod[doc] for doc in texts]\n",
    "def make_trigrams(texts):\n",
    "   return [trigram_mod[bigram_mod[doc]] for doc in texts]\n",
    "def lemmatization(texts, allowed_postags=['NOUN', 'ADJ', 'VERB', 'ADV']):\n",
    "   texts_out = []\n",
    "   for sent in texts:\n",
    "      doc = nlp(\" \".join(sent))\n",
    "      texts_out.append([token.lemma_ for token in doc if token.pos_ in allowed_postags])\n",
    "   return texts_out"
   ]
  },
  {
   "cell_type": "code",
   "execution_count": 17,
   "metadata": {},
   "outputs": [],
   "source": [
    "data_words_nostops = remove_stopwords(data_words)\n",
    "\n",
    "# Form Bigrams\n",
    "data_words_bigrams = make_bigrams(data_words_nostops)\n",
    "\n",
    "# Initialize spacy 'en' model, keeping only tagger component (for efficiency)\n",
    "#python3 -m spacy download en\n",
    "nlp = spacy.load('en_core_web_sm', disable=['parser', 'ner'])\n",
    "\n",
    "# Do lemmatization keeping only noun, adj, vb, adv\n",
    "data_lemmatized = lemmatization(data_words_bigrams, allowed_postags=['NOUN', 'ADJ', 'VERB', 'ADV'])"
   ]
  },
  {
   "cell_type": "code",
   "execution_count": 18,
   "metadata": {},
   "outputs": [],
   "source": [
    "def get_top_n_words(n_top_words, count_vectorizer, text_data):\n",
    "    '''\n",
    "    returns a tuple of the top n words in a sample and their \n",
    "    accompanying counts, given a CountVectorizer object and text sample\n",
    "    '''\n",
    "    vectorized_headlines = count_vectorizer.fit_transform(text_data.values)\n",
    "    vectorized_total = np.sum(vectorized_headlines, axis=0)\n",
    "    word_indices = np.flip(np.argsort(vectorized_total)[0,:], 1)\n",
    "    word_values = np.flip(np.sort(vectorized_total)[0,:],1)\n",
    "    \n",
    "    word_vectors = np.zeros((n_top_words, vectorized_headlines.shape[1]))\n",
    "    for i in range(n_top_words):\n",
    "        word_vectors[i,word_indices[0,i]] = 1\n",
    "\n",
    "    words = [word[0].encode('ascii').decode('utf-8') for \n",
    "             word in count_vectorizer.inverse_transform(word_vectors)]\n",
    "\n",
    "    return (words, word_values[0,:n_top_words].tolist()[0])"
   ]
  },
  {
   "cell_type": "code",
   "execution_count": 19,
   "metadata": {},
   "outputs": [
    {
     "data": {
      "image/png": "[encoded data removed]",
      "text/plain": [
       "<Figure size 1600x800 with 1 Axes>"
      ]
     },
     "metadata": {},
     "output_type": "display_data"
    }
   ],
   "source": [
    "from sklearn.feature_extraction.text import CountVectorizer\n",
    "count_vectorizer = CountVectorizer(stop_words='english')\n",
    "words, word_values = get_top_n_words(n_top_words=15,\n",
    "                                     count_vectorizer=count_vectorizer, \n",
    "                                     text_data=df['clean_text'])\n",
    "\n",
    "fig, ax = plt.subplots(figsize=(16,8))\n",
    "ax.bar(range(len(words)), word_values);\n",
    "ax.set_xticks(range(len(words)));\n",
    "ax.set_xticklabels(words, rotation='vertical');\n",
    "ax.set_title('Top words in health dataset (excluding stop words)');\n",
    "ax.set_xlabel('Word');\n",
    "ax.set_ylabel('Number of occurences');\n",
    "plt.show()"
   ]
  },
  {
   "cell_type": "code",
   "execution_count": 20,
   "metadata": {},
   "outputs": [],
   "source": [
    "id2word = corpora.Dictionary(data_lemmatized)\n",
    "texts = data_lemmatized\n",
    "corpus = [id2word.doc2bow(text) for text in texts]"
   ]
  },
  {
   "cell_type": "code",
   "execution_count": 22,
   "metadata": {},
   "outputs": [
    {
     "ename": "NameError",
     "evalue": "name 'feature_extraction' is not defined",
     "output_type": "error",
     "traceback": [
      "\u001b[1;31m---------------------------------------------------------------------------\u001b[0m",
      "\u001b[1;31mNameError\u001b[0m                                 Traceback (most recent call last)",
      "Cell \u001b[1;32mIn[22], line 1\u001b[0m\n\u001b[1;32m----> 1\u001b[0m vectorizer \u001b[39m=\u001b[39m feature_extraction\u001b[39m.\u001b[39mtext\u001b[39m.\u001b[39mTfidfVectorizer(max_features\u001b[39m=\u001b[39m\u001b[39m10000\u001b[39m, ngram_range\u001b[39m=\u001b[39m(\u001b[39m1\u001b[39m,\u001b[39m2\u001b[39m))\n\u001b[0;32m      2\u001b[0m vectorizer\u001b[39m.\u001b[39mfit(corpus)\n\u001b[0;32m      3\u001b[0m corpus \u001b[39m=\u001b[39m vectorizer\u001b[39m.\u001b[39mtransform(corpus)\n",
      "\u001b[1;31mNameError\u001b[0m: name 'feature_extraction' is not defined"
     ]
    }
   ],
   "source": [
    "vectorizer = feature_extraction.text.TfidfVectorizer(max_features=10000, ngram_range=(1,2))\n",
    "vectorizer.fit(corpus)\n",
    "corpus = vectorizer.transform(corpus)"
   ]
  },
  {
   "cell_type": "code",
   "execution_count": 21,
   "metadata": {},
   "outputs": [
    {
     "ename": "KeyboardInterrupt",
     "evalue": "",
     "output_type": "error",
     "traceback": [
      "\u001b[1;31m---------------------------------------------------------------------------\u001b[0m",
      "\u001b[1;31mKeyboardInterrupt\u001b[0m                         Traceback (most recent call last)",
      "Cell \u001b[1;32mIn[21], line 1\u001b[0m\n\u001b[1;32m----> 1\u001b[0m lsi_model \u001b[39m=\u001b[39m gensim\u001b[39m.\u001b[39;49mmodels\u001b[39m.\u001b[39;49mlsimodel\u001b[39m.\u001b[39;49mLsiModel(\n\u001b[0;32m      2\u001b[0m    corpus\u001b[39m=\u001b[39;49mcorpus, id2word\u001b[39m=\u001b[39;49mid2word, num_topics\u001b[39m=\u001b[39;49m\u001b[39m20\u001b[39;49m,chunksize\u001b[39m=\u001b[39;49m\u001b[39m100\u001b[39;49m\n\u001b[0;32m      3\u001b[0m )\n",
      "File \u001b[1;32m~\\AppData\\Local\\Packages\\PythonSoftwareFoundation.Python.3.10_qbz5n2kfra8p0\\LocalCache\\local-packages\\Python310\\site-packages\\gensim\\models\\lsimodel.py:461\u001b[0m, in \u001b[0;36mLsiModel.__init__\u001b[1;34m(self, corpus, num_topics, id2word, chunksize, decay, distributed, onepass, power_iters, extra_samples, dtype, random_seed)\u001b[0m\n\u001b[0;32m    459\u001b[0m \u001b[39mif\u001b[39;00m corpus \u001b[39mis\u001b[39;00m \u001b[39mnot\u001b[39;00m \u001b[39mNone\u001b[39;00m:\n\u001b[0;32m    460\u001b[0m     start \u001b[39m=\u001b[39m time\u001b[39m.\u001b[39mtime()\n\u001b[1;32m--> 461\u001b[0m     \u001b[39mself\u001b[39;49m\u001b[39m.\u001b[39;49madd_documents(corpus)\n\u001b[0;32m    462\u001b[0m     \u001b[39mself\u001b[39m\u001b[39m.\u001b[39madd_lifecycle_event(\n\u001b[0;32m    463\u001b[0m         \u001b[39m\"\u001b[39m\u001b[39mcreated\u001b[39m\u001b[39m\"\u001b[39m,\n\u001b[0;32m    464\u001b[0m         msg\u001b[39m=\u001b[39m\u001b[39mf\u001b[39m\u001b[39m\"\u001b[39m\u001b[39mtrained \u001b[39m\u001b[39m{\u001b[39;00m\u001b[39mself\u001b[39m\u001b[39m}\u001b[39;00m\u001b[39m in \u001b[39m\u001b[39m{\u001b[39;00mtime\u001b[39m.\u001b[39mtime()\u001b[39m \u001b[39m\u001b[39m-\u001b[39m\u001b[39m \u001b[39mstart\u001b[39m:\u001b[39;00m\u001b[39m.2f\u001b[39m\u001b[39m}\u001b[39;00m\u001b[39ms\u001b[39m\u001b[39m\"\u001b[39m,\n\u001b[0;32m    465\u001b[0m     )\n",
      "File \u001b[1;32m~\\AppData\\Local\\Packages\\PythonSoftwareFoundation.Python.3.10_qbz5n2kfra8p0\\LocalCache\\local-packages\\Python310\\site-packages\\gensim\\models\\lsimodel.py:537\u001b[0m, in \u001b[0;36mLsiModel.add_documents\u001b[1;34m(self, corpus, chunksize, decay)\u001b[0m\n\u001b[0;32m    534\u001b[0m     logger\u001b[39m.\u001b[39minfo(\u001b[39m\"\u001b[39m\u001b[39mdispatched documents up to #\u001b[39m\u001b[39m%s\u001b[39;00m\u001b[39m\"\u001b[39m, doc_no)\n\u001b[0;32m    535\u001b[0m \u001b[39melse\u001b[39;00m:\n\u001b[0;32m    536\u001b[0m     \u001b[39m# serial version, there is only one \"worker\" (myself) => process the job directly\u001b[39;00m\n\u001b[1;32m--> 537\u001b[0m     update \u001b[39m=\u001b[39m Projection(\n\u001b[0;32m    538\u001b[0m         \u001b[39mself\u001b[39;49m\u001b[39m.\u001b[39;49mnum_terms, \u001b[39mself\u001b[39;49m\u001b[39m.\u001b[39;49mnum_topics, job, extra_dims\u001b[39m=\u001b[39;49m\u001b[39mself\u001b[39;49m\u001b[39m.\u001b[39;49mextra_samples,\n\u001b[0;32m    539\u001b[0m         power_iters\u001b[39m=\u001b[39;49m\u001b[39mself\u001b[39;49m\u001b[39m.\u001b[39;49mpower_iters, dtype\u001b[39m=\u001b[39;49m\u001b[39mself\u001b[39;49m\u001b[39m.\u001b[39;49mdtype, random_seed\u001b[39m=\u001b[39;49m\u001b[39mself\u001b[39;49m\u001b[39m.\u001b[39;49mrandom_seed,\n\u001b[0;32m    540\u001b[0m     )\n\u001b[0;32m    541\u001b[0m     \u001b[39mdel\u001b[39;00m job\n\u001b[0;32m    542\u001b[0m     \u001b[39mself\u001b[39m\u001b[39m.\u001b[39mprojection\u001b[39m.\u001b[39mmerge(update, decay\u001b[39m=\u001b[39mdecay)\n",
      "File \u001b[1;32m~\\AppData\\Local\\Packages\\PythonSoftwareFoundation.Python.3.10_qbz5n2kfra8p0\\LocalCache\\local-packages\\Python310\\site-packages\\gensim\\models\\lsimodel.py:203\u001b[0m, in \u001b[0;36mProjection.__init__\u001b[1;34m(self, m, k, docs, use_svdlibc, power_iters, extra_dims, dtype, random_seed)\u001b[0m\n\u001b[0;32m    199\u001b[0m \u001b[39mif\u001b[39;00m docs \u001b[39mis\u001b[39;00m \u001b[39mnot\u001b[39;00m \u001b[39mNone\u001b[39;00m:\n\u001b[0;32m    200\u001b[0m     \u001b[39m# base case decomposition: given a job `docs`, compute its decomposition,\u001b[39;00m\n\u001b[0;32m    201\u001b[0m     \u001b[39m# *in-core*.\u001b[39;00m\n\u001b[0;32m    202\u001b[0m     \u001b[39mif\u001b[39;00m \u001b[39mnot\u001b[39;00m use_svdlibc:\n\u001b[1;32m--> 203\u001b[0m         u, s \u001b[39m=\u001b[39m stochastic_svd(\n\u001b[0;32m    204\u001b[0m             docs, k, chunksize\u001b[39m=\u001b[39;49msys\u001b[39m.\u001b[39;49mmaxsize,\n\u001b[0;32m    205\u001b[0m             num_terms\u001b[39m=\u001b[39;49mm, power_iters\u001b[39m=\u001b[39;49m\u001b[39mself\u001b[39;49m\u001b[39m.\u001b[39;49mpower_iters,\n\u001b[0;32m    206\u001b[0m             extra_dims\u001b[39m=\u001b[39;49m\u001b[39mself\u001b[39;49m\u001b[39m.\u001b[39;49mextra_dims, dtype\u001b[39m=\u001b[39;49mdtype, random_seed\u001b[39m=\u001b[39;49m\u001b[39mself\u001b[39;49m\u001b[39m.\u001b[39;49mrandom_seed)\n\u001b[0;32m    207\u001b[0m     \u001b[39melse\u001b[39;00m:\n\u001b[0;32m    208\u001b[0m         \u001b[39mtry\u001b[39;00m:\n",
      "File \u001b[1;32m~\\AppData\\Local\\Packages\\PythonSoftwareFoundation.Python.3.10_qbz5n2kfra8p0\\LocalCache\\local-packages\\Python310\\site-packages\\gensim\\models\\lsimodel.py:982\u001b[0m, in \u001b[0;36mstochastic_svd\u001b[1;34m(corpus, rank, num_terms, chunksize, extra_dims, power_iters, dtype, eps, random_seed)\u001b[0m\n\u001b[0;32m    980\u001b[0m         q \u001b[39m=\u001b[39m corpus\u001b[39m.\u001b[39mT \u001b[39m*\u001b[39m q\n\u001b[0;32m    981\u001b[0m         q \u001b[39m=\u001b[39m [corpus \u001b[39m*\u001b[39m q]\n\u001b[1;32m--> 982\u001b[0m         q, _ \u001b[39m=\u001b[39m matutils\u001b[39m.\u001b[39;49mqr_destroy(q)  \u001b[39m# orthonormalize the range after each power iteration step\u001b[39;00m\n\u001b[0;32m    983\u001b[0m \u001b[39melse\u001b[39;00m:\n\u001b[0;32m    984\u001b[0m     num_docs \u001b[39m=\u001b[39m \u001b[39m0\u001b[39m\n",
      "File \u001b[1;32m~\\AppData\\Local\\Packages\\PythonSoftwareFoundation.Python.3.10_qbz5n2kfra8p0\\LocalCache\\local-packages\\Python310\\site-packages\\gensim\\matutils.py:1127\u001b[0m, in \u001b[0;36mqr_destroy\u001b[1;34m(***failed resolving arguments***)\u001b[0m\n\u001b[0;32m   1125\u001b[0m geqrf, \u001b[39m=\u001b[39m get_lapack_funcs((\u001b[39m'\u001b[39m\u001b[39mgeqrf\u001b[39m\u001b[39m'\u001b[39m,), (a,))\n\u001b[0;32m   1126\u001b[0m qr, tau, work, info \u001b[39m=\u001b[39m geqrf(a, lwork\u001b[39m=\u001b[39m\u001b[39m-\u001b[39m\u001b[39m1\u001b[39m, overwrite_a\u001b[39m=\u001b[39m\u001b[39mTrue\u001b[39;00m)\n\u001b[1;32m-> 1127\u001b[0m qr, tau, work, info \u001b[39m=\u001b[39m geqrf(a, lwork\u001b[39m=\u001b[39;49mwork[\u001b[39m0\u001b[39;49m], overwrite_a\u001b[39m=\u001b[39;49m\u001b[39mTrue\u001b[39;49;00m)\n\u001b[0;32m   1128\u001b[0m \u001b[39mdel\u001b[39;00m a  \u001b[39m# free up mem\u001b[39;00m\n\u001b[0;32m   1129\u001b[0m \u001b[39massert\u001b[39;00m info \u001b[39m>\u001b[39m\u001b[39m=\u001b[39m \u001b[39m0\u001b[39m\n",
      "\u001b[1;31mKeyboardInterrupt\u001b[0m: "
     ]
    }
   ],
   "source": [
    "lsi_model = gensim.models.lsimodel.LsiModel(\n",
    "   corpus=corpus, id2word=id2word, num_topics=20,chunksize=100\n",
    ")"
   ]
  },
  {
   "cell_type": "code",
   "execution_count": null,
   "metadata": {},
   "outputs": [
    {
     "name": "stdout",
     "output_type": "stream",
     "text": [
      "[(0,\n",
      "  '0.898*\"fat\" + 0.231*\"exercise\" + 0.196*\"get\" + 0.121*\"diet\" + 0.086*\"ass\" + '\n",
      "  '0.080*\"lose\" + 0.073*\"eat\" + 0.069*\"loss\" + 0.068*\"weight\" + 0.068*\"body\"'),\n",
      " (1,\n",
      "  '0.924*\"exercise\" + -0.303*\"fat\" + 0.108*\"diet\" + 0.073*\"new\" + 0.054*\"good\" '\n",
      "  '+ 0.053*\"get\" + 0.048*\"weight\" + 0.039*\"day\" + 0.038*\"time\" + 0.037*\"eat\"'),\n",
      " (2,\n",
      "  '0.932*\"diet\" + -0.195*\"exercise\" + -0.143*\"fat\" + 0.116*\"weight\" + '\n",
      "  '0.096*\"eat\" + 0.075*\"high\" + 0.068*\"blood_pressure\" + 0.059*\"loss\" + '\n",
      "  '0.058*\"healthy\" + 0.057*\"lose\"'),\n",
      " (3,\n",
      "  '-0.862*\"diabete\" + -0.411*\"diabetes\" + -0.187*\"type\" + 0.095*\"diet\" + '\n",
      "  '-0.066*\"get\" + -0.060*\"health\" + -0.054*\"heart_disease\" + 0.050*\"exercise\" '\n",
      "  '+ -0.048*\"new\" + -0.040*\"risk\"'),\n",
      " (4,\n",
      "  '0.882*\"diabetes\" + -0.447*\"diabete\" + 0.103*\"get\" + 0.028*\"type\" + '\n",
      "  '0.028*\"association\" + 0.027*\"tech\" + 0.027*\"help\" + -0.024*\"fat\" + '\n",
      "  '-0.023*\"weight\" + 0.021*\"breakthrough\"'),\n",
      " (5,\n",
      "  '0.722*\"get\" + -0.511*\"weight\" + -0.327*\"loss\" + -0.243*\"lose\" + '\n",
      "  '-0.107*\"diabetes\" + -0.071*\"fat\" + 0.061*\"go\" + -0.057*\"body\" + '\n",
      "  '0.053*\"diet\" + -0.044*\"burn\"'),\n",
      " (6,\n",
      "  '0.627*\"get\" + 0.579*\"weight\" + 0.328*\"loss\" + 0.226*\"lose\" + -0.178*\"diet\" '\n",
      "  '+ -0.174*\"fat\" + -0.108*\"exercise\" + -0.076*\"diabetes\" + 0.070*\"good\" + '\n",
      "  '-0.054*\"new\"'),\n",
      " (7,\n",
      "  '0.930*\"eat\" + 0.176*\"healthy\" + 0.132*\"day\" + -0.129*\"diet\" + -0.095*\"new\" '\n",
      "  '+ 0.077*\"stop\" + 0.067*\"food\" + -0.061*\"get\" + -0.061*\"loss\" + '\n",
      "  '-0.057*\"blood_pressure\"'),\n",
      " (8,\n",
      "  '-0.832*\"new\" + 0.275*\"good\" + -0.208*\"version\" + 0.193*\"lose\" + '\n",
      "  '-0.156*\"loss\" + 0.146*\"body\" + 0.129*\"day\" + -0.127*\"eat\" + 0.077*\"go\" + '\n",
      "  '0.072*\"need\"'),\n",
      " (9,\n",
      "  '0.656*\"lose\" + -0.458*\"loss\" + 0.330*\"new\" + 0.320*\"body\" + -0.149*\"go\" + '\n",
      "  '0.131*\"day\" + 0.127*\"way\" + 0.126*\"belly\" + 0.077*\"fast\" + 0.070*\"version\"'),\n",
      " (10,\n",
      "  '0.888*\"good\" + 0.229*\"new\" + 0.202*\"health\" + -0.164*\"lose\" + -0.124*\"go\" + '\n",
      "  '0.090*\"muscle\" + 0.083*\"strength\" + -0.081*\"body\" + -0.064*\"exercise\" + '\n",
      "  '0.052*\"version\"'),\n",
      " (11,\n",
      "  '-0.839*\"day\" + 0.193*\"healthy\" + 0.180*\"health\" + 0.178*\"high\" + '\n",
      "  '0.165*\"blood_pressure\" + -0.160*\"loss\" + 0.146*\"lose\" + 0.117*\"way\" + '\n",
      "  '-0.093*\"today\" + 0.086*\"belly\"'),\n",
      " (12,\n",
      "  '0.649*\"body\" + -0.526*\"go\" + -0.246*\"lose\" + -0.181*\"time\" + 0.179*\"loss\" + '\n",
      "  '0.112*\"eat\" + -0.110*\"make\" + 0.107*\"high\" + 0.105*\"blood_pressure\" + '\n",
      "  '-0.097*\"food\"'),\n",
      " (13,\n",
      "  '-0.655*\"go\" + -0.554*\"body\" + -0.218*\"health\" + -0.157*\"food\" + '\n",
      "  '-0.152*\"need\" + -0.134*\"new\" + 0.132*\"lose\" + -0.118*\"healthy\" + '\n",
      "  '-0.105*\"loss\" + 0.086*\"high\"'),\n",
      " (14,\n",
      "  '0.586*\"need\" + 0.400*\"make\" + 0.291*\"way\" + 0.262*\"healthy\" + '\n",
      "  '-0.175*\"blood_pressure\" + -0.169*\"health\" + -0.163*\"go\" + -0.160*\"high\" + '\n",
      "  '0.156*\"belly\" + 0.149*\"loss\"'),\n",
      " (15,\n",
      "  '-0.476*\"need\" + -0.324*\"health\" + 0.302*\"way\" + 0.283*\"make\" + 0.278*\"food\" '\n",
      "  '+ 0.227*\"time\" + -0.198*\"belly\" + 0.174*\"type\" + 0.165*\"ass\" + '\n",
      "  '0.137*\"weight\"'),\n",
      " (16,\n",
      "  '-0.609*\"food\" + 0.392*\"time\" + 0.320*\"high\" + 0.304*\"blood_pressure\" + '\n",
      "  '0.212*\"way\" + 0.159*\"people\" + 0.129*\"day\" + 0.103*\"make\" + -0.101*\"diary\" '\n",
      "  '+ 0.095*\"healthy\"'),\n",
      " (17,\n",
      "  '0.586*\"type\" + -0.460*\"help\" + -0.338*\"make\" + -0.281*\"tech\" + 0.224*\"life\" '\n",
      "  '+ -0.205*\"fight\" + -0.174*\"depth\" + 0.150*\"live\" + 0.145*\"full\" + '\n",
      "  '0.109*\"need\"'),\n",
      " (18,\n",
      "  '-0.949*\"tiny_house\" + -0.316*\"earn_commission\" + -0.000*\"need\" + '\n",
      "  '-0.000*\"food\" + -0.000*\"go\" + 0.000*\"time\" + 0.000*\"help\" + -0.000*\"type\" + '\n",
      "  '-0.000*\"diary\" + 0.000*\"take\"'),\n",
      " (19,\n",
      "  '-0.654*\"world_domination\" + -0.488*\"set\" + -0.332*\"gardening\" + '\n",
      "  '-0.327*\"gardening_digital\" + 0.123*\"loss\" + -0.119*\"ass\" + -0.105*\"need\" + '\n",
      "  '-0.099*\"weight\" + 0.085*\"help\" + 0.069*\"high\"')]\n"
     ]
    }
   ],
   "source": [
    "pprint(lsi_model.print_topics())\n",
    "doc_lsi = lsi_model[corpus]"
   ]
  },
  {
   "cell_type": "code",
   "execution_count": null,
   "metadata": {},
   "outputs": [
    {
     "name": "stdout",
     "output_type": "stream",
     "text": [
      "\n",
      "Coherence Score:  0.3495677568429962\n"
     ]
    }
   ],
   "source": [
    "#print('\\nPerplexity: ', lsi_model.log_perplexity(corpus))  # a measure of how good the model is. lower the better.\n",
    "\n",
    "# Compute Coherence Score\n",
    "coherence_model_lsi = CoherenceModel(model=lsi_model, texts=data_lemmatized, dictionary=id2word, coherence='c_v')\n",
    "coherence_lsi = coherence_model_lsi.get_coherence()\n",
    "print('\\nCoherence Score: ', coherence_lsi)"
   ]
  },
  {
   "cell_type": "code",
   "execution_count": null,
   "metadata": {},
   "outputs": [],
   "source": [
    "def compute_coherence_values(dictionary, corpus, texts, limit, start=2, step=1):\n",
    "    \"\"\"\n",
    "    Compute c_v coherence for various number of topics\n",
    "\n",
    "    Parameters:\n",
    "    ----------\n",
    "    dictionary : Gensim dictionary\n",
    "    corpus : Gensim corpus\n",
    "    texts : List of input texts\n",
    "    limit : Max num of topics\n",
    "\n",
    "    Returns:\n",
    "    -------\n",
    "    model_list : List of LDA topic models\n",
    "    coherence_values : Coherence values corresponding to the LDA model with respective number of topics\n",
    "    \"\"\"\n",
    "    coherence_values = []\n",
    "    model_list = []\n",
    "    for num_topics in range(start, limit, step):\n",
    "        model = gensim.models.lsimodel.LsiModel(corpus=corpus, num_topics=num_topics, id2word=id2word)\n",
    "        model_list.append(model)\n",
    "        coherencemodel = CoherenceModel(model=model, texts=texts, dictionary=dictionary, coherence='c_v')\n",
    "        coherence_values.append(coherencemodel.get_coherence())\n",
    "\n",
    "    return model_list, coherence_values"
   ]
  },
  {
   "cell_type": "code",
   "execution_count": null,
   "metadata": {},
   "outputs": [],
   "source": [
    "model_list, coherence_values = compute_coherence_values(dictionary=id2word, corpus=corpus, texts=data_lemmatized, start=2, limit=600, step=4)"
   ]
  },
  {
   "cell_type": "code",
   "execution_count": null,
   "metadata": {},
   "outputs": [
    {
     "data": {
      "image/png": "[encoded data removed]",
      "text/plain": [
       "<Figure size 640x480 with 1 Axes>"
      ]
     },
     "metadata": {},
     "output_type": "display_data"
    }
   ],
   "source": [
    "limit=1000; start=2; step=4;\n",
    "x = range(start, limit, step)\n",
    "plt.plot(x, coherence_values)\n",
    "plt.xlabel(\"Num Topics\")\n",
    "plt.ylabel(\"Coherence score\")\n",
    "plt.legend((\"coherence_values\"), loc='best')\n",
    "plt.show()"
   ]
  },
  {
   "cell_type": "code",
   "execution_count": null,
   "metadata": {},
   "outputs": [
    {
     "name": "stdout",
     "output_type": "stream",
     "text": [
      "Num Topics = 2  has Coherence Value of 0.2566\n",
      "Num Topics = 22  has Coherence Value of 0.3269\n",
      "Num Topics = 42  has Coherence Value of 0.3294\n",
      "Num Topics = 62  has Coherence Value of 0.326\n",
      "Num Topics = 82  has Coherence Value of 0.3305\n",
      "Num Topics = 102  has Coherence Value of 0.3538\n",
      "Num Topics = 122  has Coherence Value of 0.3519\n",
      "Num Topics = 142  has Coherence Value of 0.3664\n",
      "Num Topics = 162  has Coherence Value of 0.3788\n",
      "Num Topics = 182  has Coherence Value of 0.3909\n",
      "Num Topics = 202  has Coherence Value of 0.4047\n",
      "Num Topics = 222  has Coherence Value of 0.4162\n",
      "Num Topics = 242  has Coherence Value of 0.432\n",
      "Num Topics = 262  has Coherence Value of 0.4432\n",
      "Num Topics = 282  has Coherence Value of 0.4549\n",
      "Num Topics = 302  has Coherence Value of 0.4627\n",
      "Num Topics = 322  has Coherence Value of 0.4724\n",
      "Num Topics = 342  has Coherence Value of 0.4784\n",
      "Num Topics = 362  has Coherence Value of 0.4895\n",
      "Num Topics = 382  has Coherence Value of 0.496\n",
      "Num Topics = 402  has Coherence Value of 0.5035\n",
      "Num Topics = 422  has Coherence Value of 0.5119\n",
      "Num Topics = 442  has Coherence Value of 0.5179\n",
      "Num Topics = 462  has Coherence Value of 0.5254\n",
      "Num Topics = 482  has Coherence Value of 0.5305\n",
      "Num Topics = 502  has Coherence Value of 0.5351\n",
      "Num Topics = 522  has Coherence Value of 0.5407\n",
      "Num Topics = 542  has Coherence Value of 0.546\n",
      "Num Topics = 562  has Coherence Value of 0.5525\n",
      "Num Topics = 582  has Coherence Value of 0.5579\n",
      "Num Topics = 602  has Coherence Value of 0.5601\n",
      "Num Topics = 622  has Coherence Value of 0.5655\n",
      "Num Topics = 642  has Coherence Value of 0.5694\n",
      "Num Topics = 662  has Coherence Value of 0.5712\n",
      "Num Topics = 682  has Coherence Value of 0.5775\n",
      "Num Topics = 702  has Coherence Value of 0.5798\n",
      "Num Topics = 722  has Coherence Value of 0.585\n",
      "Num Topics = 742  has Coherence Value of 0.5894\n",
      "Num Topics = 762  has Coherence Value of 0.5921\n",
      "Num Topics = 782  has Coherence Value of 0.5951\n",
      "Num Topics = 802  has Coherence Value of 0.5965\n",
      "Num Topics = 822  has Coherence Value of 0.6\n",
      "Num Topics = 842  has Coherence Value of 0.6029\n",
      "Num Topics = 862  has Coherence Value of 0.6051\n",
      "Num Topics = 882  has Coherence Value of 0.6072\n",
      "Num Topics = 902  has Coherence Value of 0.6108\n",
      "Num Topics = 922  has Coherence Value of 0.6129\n",
      "Num Topics = 942  has Coherence Value of 0.6149\n",
      "Num Topics = 962  has Coherence Value of 0.6159\n",
      "Num Topics = 982  has Coherence Value of 0.6172\n"
     ]
    }
   ],
   "source": [
    "for m, cv in zip(x, coherence_values):\n",
    "    print(\"Num Topics =\", m, \" has Coherence Value of\", round(cv, 4))"
   ]
  },
  {
   "cell_type": "code",
   "execution_count": null,
   "metadata": {},
   "outputs": [
    {
     "name": "stdout",
     "output_type": "stream",
     "text": [
      "[(0,\n",
      "  '0.899*\"fat\" + 0.231*\"exercise\" + 0.195*\"get\" + 0.123*\"diet\" + 0.086*\"ass\" + '\n",
      "  '0.080*\"lose\" + 0.072*\"eat\" + 0.069*\"weight\" + 0.069*\"loss\" + 0.068*\"body\"'),\n",
      " (1,\n",
      "  '0.924*\"exercise\" + -0.303*\"fat\" + 0.112*\"diet\" + 0.073*\"new\" + 0.054*\"good\" '\n",
      "  '+ 0.052*\"get\" + 0.048*\"weight\" + 0.038*\"day\" + 0.037*\"time\" + 0.037*\"eat\"'),\n",
      " (2,\n",
      "  '0.933*\"diet\" + -0.197*\"exercise\" + -0.142*\"fat\" + 0.115*\"weight\" + '\n",
      "  '0.093*\"eat\" + 0.075*\"high\" + 0.066*\"blood_pressure\" + 0.057*\"loss\" + '\n",
      "  '0.056*\"lose\" + 0.054*\"healthy\"'),\n",
      " (3,\n",
      "  '0.860*\"diabete\" + 0.425*\"diabetes\" + 0.181*\"type\" + -0.094*\"diet\" + '\n",
      "  '0.061*\"get\" + 0.058*\"health\" + -0.049*\"exercise\" + 0.048*\"heart_disease\" + '\n",
      "  '0.046*\"new\" + -0.037*\"fat\"'),\n",
      " (4,\n",
      "  '0.882*\"diabetes\" + -0.455*\"diabete\" + 0.079*\"get\" + 0.026*\"help\" + '\n",
      "  '0.025*\"tech\" + 0.025*\"association\" + 0.022*\"type\" + 0.020*\"tell\" + '\n",
      "  '-0.020*\"fat\" + 0.019*\"breakthrough\"'),\n",
      " (5,\n",
      "  '0.760*\"get\" + -0.479*\"weight\" + -0.300*\"loss\" + -0.235*\"lose\" + '\n",
      "  '-0.089*\"diabetes\" + -0.082*\"fat\" + 0.064*\"go\" + -0.054*\"body\" + 0.047*\"ass\" '\n",
      "  '+ -0.044*\"burn\"'),\n",
      " (6,\n",
      "  '0.606*\"weight\" + 0.586*\"get\" + 0.338*\"loss\" + 0.253*\"lose\" + -0.183*\"diet\" '\n",
      "  '+ -0.172*\"fat\" + -0.109*\"exercise\" + 0.075*\"good\" + -0.061*\"diabetes\" + '\n",
      "  '0.059*\"help\"'),\n",
      " (7,\n",
      "  '0.942*\"eat\" + 0.138*\"day\" + -0.128*\"diet\" + 0.112*\"healthy\" + 0.088*\"go\" + '\n",
      "  '0.073*\"stop\" + -0.072*\"get\" + 0.068*\"food\" + -0.059*\"fat\" + -0.054*\"new\"'),\n",
      " (8,\n",
      "  '-0.582*\"new\" + 0.469*\"good\" + 0.405*\"day\" + 0.285*\"go\" + 0.189*\"lose\" + '\n",
      "  '-0.172*\"loss\" + -0.168*\"eat\" + -0.140*\"version\" + 0.126*\"body\" + '\n",
      "  '-0.076*\"weight\"'),\n",
      " (9,\n",
      "  '-0.606*\"day\" + 0.537*\"good\" + -0.303*\"new\" + -0.294*\"lose\" + -0.246*\"go\" + '\n",
      "  '0.141*\"loss\" + -0.117*\"body\" + 0.104*\"health\" + 0.096*\"eat\" + '\n",
      "  '-0.071*\"today\"'),\n",
      " (10,\n",
      "  '-0.748*\"go\" + 0.289*\"lose\" + 0.281*\"good\" + 0.222*\"body\" + -0.212*\"loss\" + '\n",
      "  '0.202*\"day\" + -0.199*\"ass\" + 0.175*\"new\" + -0.110*\"need\" + -0.089*\"weight\"'),\n",
      " (11,\n",
      "  '0.651*\"new\" + 0.588*\"good\" + 0.299*\"go\" + 0.145*\"day\" + 0.141*\"version\" + '\n",
      "  '-0.129*\"lose\" + -0.110*\"body\" + -0.101*\"exercise\" + -0.083*\"high\" + '\n",
      "  '-0.075*\"blood_pressure\"'),\n",
      " (12,\n",
      "  '-0.576*\"day\" + 0.514*\"lose\" + -0.385*\"loss\" + 0.299*\"go\" + 0.259*\"body\" + '\n",
      "  '0.141*\"new\" + 0.127*\"way\" + 0.107*\"need\" + 0.098*\"belly\" + 0.067*\"want\"'),\n",
      " (13,\n",
      "  '0.892*\"ass\" + -0.223*\"go\" + -0.168*\"body\" + 0.160*\"lose\" + -0.144*\"loss\" + '\n",
      "  '0.142*\"make\" + 0.127*\"need\" + -0.079*\"fat\" + 0.054*\"bitch\" + '\n",
      "  '0.052*\"weight\"'),\n",
      " (14,\n",
      "  '0.674*\"make\" + 0.386*\"need\" + -0.311*\"body\" + -0.296*\"ass\" + -0.182*\"high\" '\n",
      "  '+ -0.154*\"blood_pressure\" + 0.148*\"know\" + 0.136*\"people\" + -0.132*\"go\" + '\n",
      "  '0.124*\"help\"'),\n",
      " (15,\n",
      "  '0.663*\"body\" + 0.543*\"need\" + -0.267*\"lose\" + 0.222*\"know\" + 0.177*\"loss\" + '\n",
      "  '-0.130*\"high\" + -0.108*\"blood_pressure\" + 0.102*\"ass\" + -0.073*\"make\" + '\n",
      "  '-0.071*\"weight\"'),\n",
      " (16,\n",
      "  '0.576*\"need\" + -0.564*\"make\" + -0.427*\"body\" + 0.182*\"know\" + 0.146*\"lose\" '\n",
      "  '+ -0.126*\"ass\" + -0.104*\"loss\" + 0.092*\"belly\" + -0.088*\"well\" + '\n",
      "  '0.084*\"type\"'),\n",
      " (17,\n",
      "  '0.927*\"type\" + -0.180*\"health\" + -0.148*\"diabete\" + 0.124*\"life\" + '\n",
      "  '-0.101*\"diabetes\" + 0.098*\"live\" + 0.082*\"full\" + 0.075*\"make\" + '\n",
      "  '0.063*\"people\" + 0.061*\"body\"'),\n",
      " (18,\n",
      "  '0.679*\"high\" + 0.551*\"blood_pressure\" + 0.263*\"make\" + 0.153*\"low\" + '\n",
      "  '0.151*\"need\" + -0.130*\"diet\" + 0.106*\"natural\" + -0.102*\"week\" + '\n",
      "  '0.094*\"home\" + 0.091*\"day\"'),\n",
      " (19,\n",
      "  '0.618*\"people\" + 0.488*\"time\" + 0.288*\"know\" + 0.245*\"say\" + -0.204*\"need\" '\n",
      "  '+ 0.178*\"want\" + -0.162*\"make\" + 0.115*\"think\" + 0.108*\"work\" + '\n",
      "  '0.107*\"see\"')]\n"
     ]
    }
   ],
   "source": [
    "# Select the model and print the topics\n",
    "optimal_model = model_list[3]\n",
    "model_topics = optimal_model.show_topics(formatted=False)\n",
    "pprint(optimal_model.print_topics(num_words=10))"
   ]
  },
  {
   "cell_type": "code",
   "execution_count": null,
   "metadata": {},
   "outputs": [],
   "source": []
  }
 ],
 "metadata": {
  "kernelspec": {
   "display_name": "Python 3",
   "language": "python",
   "name": "python3"
  },
  "language_info": {
   "codemirror_mode": {
    "name": "ipython",
    "version": 3
   },
   "file_extension": ".py",
   "mimetype": "text/x-python",
   "name": "python",
   "nbconvert_exporter": "python",
   "pygments_lexer": "ipython3",
   "version": "3.10.11"
  }
 },
 "nbformat": 4,
 "nbformat_minor": 4
}
