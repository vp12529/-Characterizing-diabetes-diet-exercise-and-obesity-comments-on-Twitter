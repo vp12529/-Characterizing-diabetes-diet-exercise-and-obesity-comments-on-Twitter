{
 "cells": [
  {
   "cell_type": "code",
   "execution_count": 1,
   "metadata": {},
   "outputs": [],
   "source": [
    "import re\n",
    "import numpy as np\n",
    "import pandas as pd\n",
    "from pprint import pprint\n",
    "import gensim\n",
    "import gensim.corpora as corpora\n",
    "from gensim.utils import simple_preprocess\n",
    "from gensim.models import CoherenceModel\n",
    "import spacy\n",
    "import matplotlib.pyplot as plt"
   ]
  },
  {
   "cell_type": "code",
   "execution_count": 2,
   "metadata": {},
   "outputs": [
    {
     "name": "stdout",
     "output_type": "stream",
     "text": [
      "91928\n"
     ]
    },
    {
     "data": {
      "text/plain": [
       "0    When the coworkers compliment you on how skinn...\n",
       "1    Shape up this summer with @QLuxSpa! #waisttrai...\n",
       "2    How to remove 400 #calories from your #diet wi...\n",
       "3    Heartburn Acid Reflux &amp; GERD Diet Cure Wit...\n",
       "4    David Zinczenko - the \"Abs Diet\" and \"Zero Bel...\n",
       "Name: Text, dtype: object"
      ]
     },
     "execution_count": 2,
     "metadata": {},
     "output_type": "execute_result"
    }
   ],
   "source": [
    "df = pd.read_csv('new_data.csv').dropna(subset=['Text'])\n",
    "\n",
    "print(len(df.index))\n",
    "df['Text'].head()\n"
   ]
  },
  {
   "cell_type": "code",
   "execution_count": 3,
   "metadata": {},
   "outputs": [
    {
     "data": {
      "text/plain": [
       "0    When the coworkers compliment you on how skinn...\n",
       "1                          Shape up this summer with !\n",
       "2              How to remove from your without effort?\n",
       "3    Heartburn Acid Reflux &amp; GERD Diet Cure Wit...\n",
       "4    David Zinczenko - the \"Abs Diet\" and \"Zero Bel...\n",
       "Name: clean_text, dtype: object"
      ]
     },
     "execution_count": 3,
     "metadata": {},
     "output_type": "execute_result"
    }
   ],
   "source": [
    "import preprocessor as p\n",
    "\n",
    "df['clean_text'] = df['Text'].apply(lambda text: p.clean(str(text)))\n",
    "\n",
    "df['clean_text'].head()"
   ]
  },
  {
   "cell_type": "code",
   "execution_count": 4,
   "metadata": {},
   "outputs": [],
   "source": [
    "df.sort_values(\"Text\", inplace = True)\n",
    "# dropping ALL duplicte values\n",
    "df.drop_duplicates(subset =\"Text\",keep = False, inplace = True)"
   ]
  },
  {
   "cell_type": "code",
   "execution_count": 5,
   "metadata": {},
   "outputs": [
    {
     "data": {
      "text/plain": [
       "34046                                     !dile a la ! ...\n",
       "20327    \" eating good , looking good , feeling good an...\n",
       "84720            \" fat kat, they call tht bitch garfield \"\n",
       "63664    \" how are you going to exercise that decree wi...\n",
       "53235      \" i exercise at length so electrify the fence.\"\n",
       "Name: clean_text, dtype: object"
      ]
     },
     "execution_count": 5,
     "metadata": {},
     "output_type": "execute_result"
    }
   ],
   "source": [
    "df['clean_text'] = df['clean_text'].apply(lambda text: text.lower())\n",
    "\n",
    "df['clean_text'].head()"
   ]
  },
  {
   "cell_type": "code",
   "execution_count": 6,
   "metadata": {},
   "outputs": [
    {
     "data": {
      "text/plain": [
       "34046                                     !dile a la ! ...\n",
       "20327    \" eating good , looking good , feeling good an...\n",
       "84720            \" fat kat, they call tht bitch garfield \"\n",
       "63664    \" how are you going to exercise that decree wi...\n",
       "53235      \" i exercise at length so electrify the fence.\"\n",
       "Name: clean_text, dtype: object"
      ]
     },
     "execution_count": 6,
     "metadata": {},
     "output_type": "execute_result"
    }
   ],
   "source": [
    "import re\n",
    "\n",
    "def remove_contractions(text):\n",
    "    text = re.sub(r'’', '\\'', text)\n",
    "    \n",
    "    text = re.sub(r'won\\'t', 'will not', text)\n",
    "    text = re.sub(r'can\\'t', 'can not', text)\n",
    "    \n",
    "    text = re.sub(r'\\'s', ' is', text)\n",
    "    text = re.sub(r'\\'m', ' am', text)\n",
    "    text = re.sub(r'\\'re', ' are', text)\n",
    "    text = re.sub(r'\\'ve', ' have', text)\n",
    "    text = re.sub(r'\\'ll', ' will', text)\n",
    "    text = re.sub(r'\\'d', ' would', text)\n",
    "    text = re.sub(r'\\'t', ' not', text)\n",
    "    text = re.sub(r'n\\'t', ' not', text)\n",
    "    \n",
    "    return text\n",
    "\n",
    "df['clean_text'] = df['clean_text'].apply(remove_contractions)\n",
    "\n",
    "df['clean_text'].head()"
   ]
  },
  {
   "cell_type": "code",
   "execution_count": 7,
   "metadata": {},
   "outputs": [
    {
     "name": "stderr",
     "output_type": "stream",
     "text": [
      "C:\\Users\\91958\\AppData\\Local\\Temp\\ipykernel_352\\3609691566.py:1: FutureWarning: The default value of regex will change from True to False in a future version.\n",
      "  df['clean_text'] = df['clean_text'].str.replace('[^\\w\\s]', '')\n"
     ]
    },
    {
     "data": {
      "text/plain": [
       "34046                                          dile a la  \n",
       "20327     eating good  looking good  feeling good and i...\n",
       "84720                fat kat they call tht bitch garfield \n",
       "63664     how are you going to exercise that decree win...\n",
       "53235          i exercise at length so electrify the fence\n",
       "Name: clean_text, dtype: object"
      ]
     },
     "execution_count": 7,
     "metadata": {},
     "output_type": "execute_result"
    }
   ],
   "source": [
    "df['clean_text'] = df['clean_text'].str.replace('[^\\w\\s]', '')\n",
    "\n",
    "df['clean_text'].head()"
   ]
  },
  {
   "cell_type": "code",
   "execution_count": 8,
   "metadata": {},
   "outputs": [
    {
     "data": {
      "text/plain": [
       "34046                                            dile a la\n",
       "20327    eating good  looking good  feeling good and it...\n",
       "84720                 fat kat they call tht bitch garfield\n",
       "63664    how are you going to exercise that decree wine...\n",
       "53235          i exercise at length so electrify the fence\n",
       "Name: clean_text, dtype: object"
      ]
     },
     "execution_count": 8,
     "metadata": {},
     "output_type": "execute_result"
    }
   ],
   "source": [
    "# Remove whitespaces.\n",
    "\n",
    "df['clean_text'] = df['clean_text'].apply(lambda text: str(text).strip())\n",
    "\n",
    "df['clean_text'].head()"
   ]
  },
  {
   "cell_type": "code",
   "execution_count": 9,
   "metadata": {},
   "outputs": [
    {
     "name": "stdout",
     "output_type": "stream",
     "text": [
      "65003\n"
     ]
    },
    {
     "data": {
      "text/plain": [
       "34046                                            dile a la\n",
       "20327    eating good  looking good  feeling good and it...\n",
       "84720                 fat kat they call tht bitch garfield\n",
       "63664    how are you going to exercise that decree wine...\n",
       "53235          i exercise at length so electrify the fence\n",
       "Name: clean_text, dtype: object"
      ]
     },
     "execution_count": 9,
     "metadata": {},
     "output_type": "execute_result"
    }
   ],
   "source": [
    "# Remove empty texts.\n",
    "\n",
    "df = df.drop(df[df['clean_text'] == ''].index)\n",
    "\n",
    "print(len(df.index))\n",
    "df['clean_text'].head()"
   ]
  },
  {
   "cell_type": "code",
   "execution_count": 10,
   "metadata": {},
   "outputs": [
    {
     "name": "stderr",
     "output_type": "stream",
     "text": [
      "[nltk_data] Downloading package words to\n",
      "[nltk_data]     C:\\Users\\91958\\AppData\\Roaming\\nltk_data...\n",
      "[nltk_data]   Unzipping corpora\\words.zip.\n"
     ]
    },
    {
     "data": {
      "text/plain": [
       "True"
      ]
     },
     "execution_count": 10,
     "metadata": {},
     "output_type": "execute_result"
    }
   ],
   "source": [
    "import nltk\n",
    "nltk.download('words')"
   ]
  },
  {
   "cell_type": "code",
   "execution_count": 11,
   "metadata": {},
   "outputs": [
    {
     "data": {
      "text/plain": [
       "34046                                                 a la\n",
       "20327    eating good looking good feeling good and it i...\n",
       "84720                              fat kat they call bitch\n",
       "63664    how are you going to exercise that decree wine...\n",
       "53235          i exercise at length so electrify the fence\n",
       "Name: clean_text, dtype: object"
      ]
     },
     "execution_count": 11,
     "metadata": {},
     "output_type": "execute_result"
    }
   ],
   "source": [
    "# Remove non-English words.\n",
    "from nltk.corpus import words\n",
    "words = set(words.words())\n",
    "\n",
    "df['clean_text'] = df['clean_text'].apply(lambda text: ' '.join(word for word in text.split() if word in words))\n",
    "\n",
    "df['clean_text'].head()"
   ]
  },
  {
   "cell_type": "code",
   "execution_count": 12,
   "metadata": {},
   "outputs": [],
   "source": [
    "from nltk.corpus import stopwords\n",
    "stop_words = stopwords.words('english')\n",
    "stop_words.extend(['from', 'subject', 're', 'edu', 'use'])"
   ]
  },
  {
   "cell_type": "code",
   "execution_count": 13,
   "metadata": {},
   "outputs": [],
   "source": [
    "def sent_to_words(sentences):\n",
    "   for sentence in sentences:\n",
    "      yield(gensim.utils.simple_preprocess(str(sentence), deacc=True))\n",
    "data_words = list(sent_to_words(df['clean_text']))"
   ]
  },
  {
   "cell_type": "code",
   "execution_count": 14,
   "metadata": {},
   "outputs": [],
   "source": [
    "bigram = gensim.models.Phrases(data_words, min_count=5, threshold=100)\n",
    "trigram = gensim.models.Phrases(bigram[data_words], threshold=100)\n",
    "bigram_mod = gensim.models.phrases.Phraser(bigram)\n",
    "trigram_mod = gensim.models.phrases.Phraser(trigram)"
   ]
  },
  {
   "cell_type": "code",
   "execution_count": 15,
   "metadata": {},
   "outputs": [],
   "source": [
    "def remove_stopwords(texts):\n",
    "   return [[word for word in simple_preprocess(str(doc)) \n",
    "   if word not in stop_words] for doc in texts]\n",
    "def make_bigrams(texts):\n",
    "   return [bigram_mod[doc] for doc in texts]\n",
    "def make_trigrams(texts):\n",
    "   return [trigram_mod[bigram_mod[doc]] for doc in texts]\n",
    "def lemmatization(texts, allowed_postags=['NOUN', 'ADJ', 'VERB', 'ADV']):\n",
    "   texts_out = []\n",
    "   for sent in texts:\n",
    "      doc = nlp(\" \".join(sent))\n",
    "      texts_out.append([token.lemma_ for token in doc if token.pos_ in allowed_postags])\n",
    "   return texts_out"
   ]
  },
  {
   "cell_type": "code",
   "execution_count": 16,
   "metadata": {},
   "outputs": [],
   "source": [
    "data_words_nostops = remove_stopwords(data_words)\n",
    "\n",
    "# Form Bigrams\n",
    "data_words_bigrams = make_bigrams(data_words_nostops)\n",
    "\n",
    "# Initialize spacy 'en' model, keeping only tagger component (for efficiency)\n",
    "#python3 -m spacy download en\n",
    "nlp = spacy.load('en_core_web_sm', disable=['parser', 'ner'])\n",
    "\n",
    "# Do lemmatization keeping only noun, adj, vb, adv\n",
    "data_lemmatized = lemmatization(data_words_bigrams, allowed_postags=['NOUN', 'ADJ', 'VERB', 'ADV'])"
   ]
  },
  {
   "cell_type": "code",
   "execution_count": 17,
   "metadata": {},
   "outputs": [],
   "source": [
    "def get_top_n_words(n_top_words, count_vectorizer, text_data):\n",
    "    '''\n",
    "    returns a tuple of the top n words in a sample and their \n",
    "    accompanying counts, given a CountVectorizer object and text sample\n",
    "    '''\n",
    "    vectorized_headlines = count_vectorizer.fit_transform(text_data.values)\n",
    "    vectorized_total = np.sum(vectorized_headlines, axis=0)\n",
    "    word_indices = np.flip(np.argsort(vectorized_total)[0,:], 1)\n",
    "    word_values = np.flip(np.sort(vectorized_total)[0,:],1)\n",
    "    \n",
    "    word_vectors = np.zeros((n_top_words, vectorized_headlines.shape[1]))\n",
    "    for i in range(n_top_words):\n",
    "        word_vectors[i,word_indices[0,i]] = 1\n",
    "\n",
    "    words = [word[0].encode('ascii').decode('utf-8') for \n",
    "             word in count_vectorizer.inverse_transform(word_vectors)]\n",
    "\n",
    "    return (words, word_values[0,:n_top_words].tolist()[0])"
   ]
  },
  {
   "cell_type": "code",
   "execution_count": 18,
   "metadata": {},
   "outputs": [
    {
     "data": {
      "image/png": "[encoded data removed]",
      "text/plain": [
       "<Figure size 1600x800 with 1 Axes>"
      ]
     },
     "metadata": {},
     "output_type": "display_data"
    }
   ],
   "source": [
    "from sklearn.feature_extraction.text import CountVectorizer\n",
    "count_vectorizer = CountVectorizer(stop_words='english')\n",
    "words, word_values = get_top_n_words(n_top_words=15,\n",
    "                                     count_vectorizer=count_vectorizer, \n",
    "                                     text_data=df['clean_text'])\n",
    "\n",
    "fig, ax = plt.subplots(figsize=(16,8))\n",
    "ax.bar(range(len(words)), word_values);\n",
    "ax.set_xticks(range(len(words)));\n",
    "ax.set_xticklabels(words, rotation='vertical');\n",
    "ax.set_title('Top words in health dataset (excluding stop words)');\n",
    "ax.set_xlabel('Word');\n",
    "ax.set_ylabel('Number of occurences');\n",
    "plt.show()"
   ]
  },
  {
   "cell_type": "code",
   "execution_count": 19,
   "metadata": {},
   "outputs": [],
   "source": [
    "id2word = corpora.Dictionary(data_lemmatized)\n",
    "texts = data_lemmatized\n",
    "corpus = [id2word.doc2bow(text) for text in texts]"
   ]
  },
  {
   "cell_type": "code",
   "execution_count": 20,
   "metadata": {},
   "outputs": [
    {
     "name": "stdout",
     "output_type": "stream",
     "text": [
      "[]\n"
     ]
    }
   ],
   "source": [
    "#TF-IDF\n",
    "from gensim import corpora, models\n",
    "tfidf = models.TfidfModel(corpus)\n",
    "corpus_tfidf = tfidf[corpus]\n",
    "from pprint import pprint\n",
    "for doc in corpus_tfidf:\n",
    "    pprint(doc)\n",
    "    break"
   ]
  },
  {
   "cell_type": "code",
   "execution_count": null,
   "metadata": {},
   "outputs": [],
   "source": []
  },
  {
   "cell_type": "code",
   "execution_count": 21,
   "metadata": {},
   "outputs": [],
   "source": [
    "lsi_model = gensim.models.lsimodel.LsiModel(\n",
    "   corpus=corpus_tfidf, id2word=id2word, num_topics=20,chunksize=100\n",
    ")"
   ]
  },
  {
   "cell_type": "code",
   "execution_count": null,
   "metadata": {},
   "outputs": [],
   "source": []
  },
  {
   "cell_type": "code",
   "execution_count": 22,
   "metadata": {},
   "outputs": [
    {
     "name": "stdout",
     "output_type": "stream",
     "text": [
      "[(0,\n",
      "  '0.987*\"diabetes\" + 0.138*\"diabete\" + 0.033*\"type\" + 0.023*\"get\" + '\n",
      "  '0.017*\"association\" + 0.017*\"diet\" + 0.015*\"fat\" + 0.014*\"health\" + '\n",
      "  '0.012*\"drug_meet\" + 0.012*\"reduce\"'),\n",
      " (1,\n",
      "  '0.908*\"diet\" + 0.307*\"fat\" + 0.120*\"blood_pressure\" + 0.113*\"high\" + '\n",
      "  '0.082*\"get\" + 0.058*\"weight\" + 0.054*\"eat\" + 0.052*\"lose\" + 0.050*\"loss\" + '\n",
      "  '0.049*\"go\"'),\n",
      " (2,\n",
      "  '0.907*\"fat\" + -0.341*\"diet\" + 0.132*\"get\" + 0.101*\"ass\" + 0.058*\"belly\" + '\n",
      "  '-0.048*\"blood_pressure\" + 0.047*\"loss\" + 0.044*\"lose\" + -0.040*\"high\" + '\n",
      "  '0.036*\"burn\"'),\n",
      " (3,\n",
      "  '0.976*\"diabete\" + -0.144*\"diabetes\" + 0.093*\"type\" + -0.051*\"fat\" + '\n",
      "  '0.038*\"heart_disease\" + 0.035*\"health\" + -0.034*\"diet\" + '\n",
      "  '0.033*\"deadly_combination\" + 0.030*\"exercise\" + 0.026*\"cure\"'),\n",
      " (4,\n",
      "  '0.919*\"exercise\" + 0.195*\"new\" + 0.190*\"version\" + -0.096*\"fat\" + '\n",
      "  '0.078*\"get\" + 0.072*\"good\" + 0.071*\"weight\" + -0.062*\"diet\" + '\n",
      "  '0.062*\"cleanup\" + -0.057*\"diabete\"'),\n",
      " (5,\n",
      "  '-0.511*\"blood_pressure\" + 0.476*\"weight\" + -0.454*\"high\" + 0.330*\"loss\" + '\n",
      "  '0.318*\"lose\" + -0.093*\"exercise\" + -0.090*\"fat\" + -0.084*\"version\" + '\n",
      "  '-0.077*\"new\" + 0.074*\"need\"'),\n",
      " (6,\n",
      "  '-0.521*\"blood_pressure\" + -0.467*\"high\" + -0.458*\"weight\" + -0.327*\"loss\" + '\n",
      "  '-0.297*\"lose\" + 0.179*\"diet\" + 0.108*\"new\" + 0.098*\"version\" + 0.071*\"get\" '\n",
      "  '+ -0.063*\"good\"'),\n",
      " (7,\n",
      "  '0.589*\"get\" + -0.519*\"new\" + -0.481*\"version\" + 0.152*\"ass\" + -0.124*\"loss\" '\n",
      "  '+ -0.122*\"fat\" + 0.112*\"exercise\" + 0.091*\"eat\" + -0.089*\"weight\" + '\n",
      "  '0.089*\"go\"'),\n",
      " (8,\n",
      "  '0.650*\"get\" + 0.443*\"new\" + 0.394*\"version\" + 0.268*\"ass\" + '\n",
      "  '-0.266*\"exercise\" + -0.147*\"fat\" + 0.097*\"weight\" + 0.070*\"eat\" + '\n",
      "  '-0.059*\"diet\" + 0.055*\"blood_pressure\"'),\n",
      " (9,\n",
      "  '0.623*\"lose\" + -0.534*\"loss\" + 0.380*\"belly\" + 0.199*\"way\" + 0.158*\"body\" + '\n",
      "  '0.157*\"need\" + -0.142*\"weight\" + 0.126*\"fast\" + -0.074*\"text_skinny\" + '\n",
      "  '-0.063*\"good\"'),\n",
      " (10,\n",
      "  '0.771*\"eat\" + 0.385*\"healthy\" + -0.249*\"get\" + 0.161*\"good\" + 0.135*\"ass\" + '\n",
      "  '0.116*\"food\" + 0.094*\"stop\" + -0.088*\"weight\" + -0.086*\"exercise\" + '\n",
      "  '0.065*\"day\"'),\n",
      " (11,\n",
      "  '0.759*\"good\" + 0.366*\"ass\" + -0.237*\"eat\" + 0.161*\"health\" + -0.158*\"loss\" '\n",
      "  '+ -0.152*\"belly\" + -0.152*\"need\" + -0.143*\"get\" + -0.136*\"healthy\" + '\n",
      "  '-0.104*\"day\"'),\n",
      " (12,\n",
      "  '0.576*\"way\" + 0.509*\"body\" + -0.261*\"belly\" + -0.259*\"need\" + 0.233*\"tell\" '\n",
      "  '+ -0.218*\"ass\" + -0.181*\"fast\" + -0.153*\"deadly_combination\" + '\n",
      "  '-0.150*\"heart_disease\" + 0.112*\"work\"'),\n",
      " (13,\n",
      "  '0.671*\"deadly_combination\" + 0.642*\"heart_disease\" + 0.142*\"research\" + '\n",
      "  '0.132*\"way\" + 0.118*\"find\" + 0.116*\"body\" + 0.108*\"study\" + 0.092*\"science\" '\n",
      "  '+ 0.085*\"daily\" + -0.082*\"version\"'),\n",
      " (14,\n",
      "  '-0.772*\"say\" + -0.486*\"least\" + -0.312*\"drug_meet\" + -0.188*\"housewife\" + '\n",
      "  '0.072*\"ad\" + 0.065*\"ass\" + 0.053*\"odd_second\" + 0.053*\"beer_gut\" + '\n",
      "  '0.052*\"eat\" + -0.045*\"day\"'),\n",
      " (15,\n",
      "  '-0.444*\"ad\" + 0.371*\"day\" + -0.277*\"breakthrough\" + -0.250*\"doctor\" + '\n",
      "  '-0.249*\"odd_second\" + -0.248*\"beer_gut\" + -0.246*\"tell\" + -0.243*\"ass\" + '\n",
      "  '0.217*\"today\" + 0.150*\"take\"'),\n",
      " (16,\n",
      "  '-0.707*\"time\" + -0.414*\"save_gym\" + -0.414*\"maximize_intensity\" + '\n",
      "  '0.175*\"ad\" + 0.118*\"breakthrough\" + 0.107*\"diary\" + 0.103*\"good\" + '\n",
      "  '0.103*\"doctor\" + 0.096*\"tell\" + 0.093*\"calorie_goal\"'),\n",
      " (17,\n",
      "  '-0.431*\"diary\" + -0.379*\"calorie_goal\" + 0.323*\"burn\" + -0.313*\"food\" + '\n",
      "  '0.303*\"today\" + 0.252*\"day\" + 0.224*\"take\" + 0.213*\"ad\" + 0.188*\"challenge\" '\n",
      "  '+ 0.185*\"text_skinny\"'),\n",
      " (18,\n",
      "  '-0.487*\"diary\" + -0.429*\"calorie_goal\" + -0.332*\"food\" + -0.290*\"burn\" + '\n",
      "  '-0.289*\"today\" + -0.236*\"day\" + -0.218*\"take\" + -0.182*\"challenge\" + '\n",
      "  '-0.166*\"text_skinny\" + -0.124*\"time\"'),\n",
      " (19,\n",
      "  '-0.554*\"health\" + -0.480*\"cognitive_analytic\" + -0.336*\"association\" + '\n",
      "  '0.306*\"type\" + -0.247*\"join\" + -0.197*\"late\" + -0.119*\"burn\" + '\n",
      "  '-0.101*\"th_scientific\" + 0.095*\"good\" + -0.094*\"thank\"')]\n"
     ]
    }
   ],
   "source": [
    "pprint(lsi_model.print_topics())\n",
    "doc_lsi = lsi_model[corpus_tfidf]"
   ]
  },
  {
   "cell_type": "code",
   "execution_count": 23,
   "metadata": {},
   "outputs": [
    {
     "name": "stdout",
     "output_type": "stream",
     "text": [
      "\n",
      "Coherence Score:  0.37508829104463126\n"
     ]
    }
   ],
   "source": [
    "#print('\\nPerplexity: ', lsi_model.log_perplexity(corpus))  # a measure of how good the model is. lower the better.\n",
    "\n",
    "# Compute Coherence Score\n",
    "coherence_model_lsi = CoherenceModel(model=lsi_model, texts=data_lemmatized, dictionary=id2word, coherence='c_v')\n",
    "coherence_lsi = coherence_model_lsi.get_coherence()\n",
    "print('\\nCoherence Score: ', coherence_lsi)"
   ]
  },
  {
   "cell_type": "code",
   "execution_count": 24,
   "metadata": {},
   "outputs": [],
   "source": [
    "def compute_coherence_values(dictionary, corpus, texts, limit, start=2, step=1):\n",
    "    \"\"\"\n",
    "    Compute c_v coherence for various number of topics\n",
    "\n",
    "    Parameters:\n",
    "    ----------\n",
    "    dictionary : Gensim dictionary\n",
    "    corpus : Gensim corpus\n",
    "    texts : List of input texts\n",
    "    limit : Max num of topics\n",
    "\n",
    "    Returns:\n",
    "    -------\n",
    "    model_list : List of LDA topic models\n",
    "    coherence_values : Coherence values corresponding to the LDA model with respective number of topics\n",
    "    \"\"\"\n",
    "    coherence_values = []\n",
    "    model_list = []\n",
    "    for num_topics in range(start, limit, step):\n",
    "        model = gensim.models.lsimodel.LsiModel(corpus=corpus_tfidf, num_topics=num_topics, id2word=id2word)\n",
    "        model_list.append(model)\n",
    "        coherencemodel = CoherenceModel(model=model, texts=texts, dictionary=dictionary, coherence='c_v')\n",
    "        coherence_values.append(coherencemodel.get_coherence())\n",
    "\n",
    "    return model_list, coherence_values"
   ]
  },
  {
   "cell_type": "code",
   "execution_count": 25,
   "metadata": {},
   "outputs": [],
   "source": [
    "model_list, coherence_values = compute_coherence_values(dictionary=id2word, corpus=corpus_tfidf, texts=data_lemmatized, start=2, limit=300, step=5)"
   ]
  },
  {
   "cell_type": "code",
   "execution_count": 32,
   "metadata": {},
   "outputs": [
    {
     "data": {
      "image/png": "[encoded data removed]",
      "text/plain": [
       "<Figure size 640x480 with 1 Axes>"
      ]
     },
     "metadata": {},
     "output_type": "display_data"
    }
   ],
   "source": [
    "limit=300; start=2; step=5;\n",
    "x = range(start, limit, step)\n",
    "plt.plot(x, coherence_values)\n",
    "plt.xlabel(\"Num Topics\")\n",
    "plt.ylabel(\"Coherence score\")\n",
    "plt.legend((\"coherence_values\"), loc='best')\n",
    "plt.show()"
   ]
  },
  {
   "cell_type": "code",
   "execution_count": 31,
   "metadata": {},
   "outputs": [
    {
     "name": "stdout",
     "output_type": "stream",
     "text": [
      "Num Topics = 2  has Coherence Value of 0.3027\n",
      "Num Topics = 7  has Coherence Value of 0.3784\n",
      "Num Topics = 12  has Coherence Value of 0.3745\n",
      "Num Topics = 17  has Coherence Value of 0.3958\n",
      "Num Topics = 22  has Coherence Value of 0.3659\n",
      "Num Topics = 27  has Coherence Value of 0.3944\n",
      "Num Topics = 32  has Coherence Value of 0.3876\n",
      "Num Topics = 37  has Coherence Value of 0.4069\n",
      "Num Topics = 42  has Coherence Value of 0.4091\n",
      "Num Topics = 47  has Coherence Value of 0.4007\n",
      "Num Topics = 52  has Coherence Value of 0.3912\n",
      "Num Topics = 57  has Coherence Value of 0.4032\n",
      "Num Topics = 62  has Coherence Value of 0.4151\n",
      "Num Topics = 67  has Coherence Value of 0.4229\n",
      "Num Topics = 72  has Coherence Value of 0.416\n",
      "Num Topics = 77  has Coherence Value of 0.4169\n",
      "Num Topics = 82  has Coherence Value of 0.4189\n",
      "Num Topics = 87  has Coherence Value of 0.4219\n",
      "Num Topics = 92  has Coherence Value of 0.4224\n",
      "Num Topics = 97  has Coherence Value of 0.4125\n",
      "Num Topics = 102  has Coherence Value of 0.4074\n",
      "Num Topics = 107  has Coherence Value of 0.4156\n",
      "Num Topics = 112  has Coherence Value of 0.4153\n",
      "Num Topics = 117  has Coherence Value of 0.4205\n",
      "Num Topics = 122  has Coherence Value of 0.4181\n",
      "Num Topics = 127  has Coherence Value of 0.4191\n",
      "Num Topics = 132  has Coherence Value of 0.4219\n",
      "Num Topics = 137  has Coherence Value of 0.4255\n",
      "Num Topics = 142  has Coherence Value of 0.4204\n",
      "Num Topics = 147  has Coherence Value of 0.4249\n",
      "Num Topics = 152  has Coherence Value of 0.4292\n",
      "Num Topics = 157  has Coherence Value of 0.4284\n",
      "Num Topics = 162  has Coherence Value of 0.4232\n",
      "Num Topics = 167  has Coherence Value of 0.4296\n",
      "Num Topics = 172  has Coherence Value of 0.4236\n",
      "Num Topics = 177  has Coherence Value of 0.4266\n",
      "Num Topics = 182  has Coherence Value of 0.4359\n",
      "Num Topics = 187  has Coherence Value of 0.4403\n",
      "Num Topics = 192  has Coherence Value of 0.4386\n",
      "Num Topics = 197  has Coherence Value of 0.4372\n",
      "Num Topics = 202  has Coherence Value of 0.4381\n",
      "Num Topics = 207  has Coherence Value of 0.4473\n",
      "Num Topics = 212  has Coherence Value of 0.4481\n",
      "Num Topics = 217  has Coherence Value of 0.4544\n",
      "Num Topics = 222  has Coherence Value of 0.457\n",
      "Num Topics = 227  has Coherence Value of 0.4566\n",
      "Num Topics = 232  has Coherence Value of 0.4617\n",
      "Num Topics = 237  has Coherence Value of 0.4608\n",
      "Num Topics = 242  has Coherence Value of 0.4616\n",
      "Num Topics = 247  has Coherence Value of 0.4608\n",
      "Num Topics = 252  has Coherence Value of 0.4625\n",
      "Num Topics = 257  has Coherence Value of 0.4669\n",
      "Num Topics = 262  has Coherence Value of 0.4685\n",
      "Num Topics = 267  has Coherence Value of 0.4679\n",
      "Num Topics = 272  has Coherence Value of 0.4721\n",
      "Num Topics = 277  has Coherence Value of 0.4763\n",
      "Num Topics = 282  has Coherence Value of 0.4764\n",
      "Num Topics = 287  has Coherence Value of 0.482\n",
      "Num Topics = 292  has Coherence Value of 0.4844\n",
      "Num Topics = 297  has Coherence Value of 0.4889\n"
     ]
    }
   ],
   "source": [
    "for m, cv in zip(x, coherence_values):\n",
    "    print(\"Num Topics =\", m, \" has Coherence Value of\", round(cv, 4))"
   ]
  },
  {
   "cell_type": "code",
   "execution_count": 28,
   "metadata": {},
   "outputs": [
    {
     "name": "stdout",
     "output_type": "stream",
     "text": [
      "[(0,\n",
      "  '0.988*\"diabetes\" + 0.136*\"diabete\" + 0.032*\"type\" + 0.021*\"get\" + '\n",
      "  '0.016*\"association\" + 0.016*\"diet\" + 0.014*\"fat\" + 0.013*\"health\" + '\n",
      "  '0.013*\"drug_meet\" + 0.012*\"reduce\"'),\n",
      " (1,\n",
      "  '0.927*\"diet\" + 0.270*\"fat\" + 0.117*\"blood_pressure\" + 0.110*\"high\" + '\n",
      "  '0.069*\"get\" + 0.054*\"weight\" + 0.048*\"eat\" + 0.046*\"lose\" + 0.046*\"go\" + '\n",
      "  '0.044*\"loss\"'),\n",
      " (2,\n",
      "  '0.926*\"fat\" + -0.298*\"diet\" + 0.122*\"get\" + 0.102*\"ass\" + 0.047*\"belly\" + '\n",
      "  '0.044*\"loss\" + 0.043*\"lose\" + -0.040*\"blood_pressure\" + 0.033*\"body\" + '\n",
      "  '-0.033*\"high\"'),\n",
      " (3,\n",
      "  '0.978*\"diabete\" + -0.141*\"diabetes\" + 0.087*\"type\" + -0.047*\"fat\" + '\n",
      "  '0.035*\"heart_disease\" + 0.033*\"health\" + 0.031*\"deadly_combination\" + '\n",
      "  '-0.030*\"diet\" + 0.027*\"exercise\" + 0.025*\"get\"'),\n",
      " (4,\n",
      "  '0.939*\"exercise\" + 0.154*\"version\" + 0.151*\"new\" + -0.085*\"fat\" + '\n",
      "  '0.079*\"get\" + 0.066*\"good\" + 0.065*\"weight\" + 0.062*\"cleanup\" + '\n",
      "  '-0.056*\"diet\" + 0.049*\"time\"'),\n",
      " (5,\n",
      "  '0.483*\"weight\" + -0.474*\"blood_pressure\" + -0.422*\"high\" + 0.348*\"loss\" + '\n",
      "  '0.291*\"lose\" + 0.132*\"get\" + -0.130*\"exercise\" + -0.115*\"fat\" + '\n",
      "  '0.107*\"good\" + 0.104*\"need\"'),\n",
      " (6,\n",
      "  '0.473*\"blood_pressure\" + 0.429*\"high\" + 0.428*\"weight\" + -0.355*\"ass\" + '\n",
      "  '0.332*\"loss\" + 0.252*\"lose\" + -0.207*\"get\" + -0.151*\"diet\" + 0.074*\"burn\" + '\n",
      "  '0.063*\"good\"'),\n",
      " (7,\n",
      "  '0.707*\"ass\" + 0.471*\"get\" + 0.291*\"blood_pressure\" + 0.265*\"high\" + '\n",
      "  '-0.181*\"fat\" + -0.111*\"diet\" + 0.095*\"weight\" + -0.092*\"exercise\" + '\n",
      "  '0.080*\"eat\" + 0.077*\"go\"'),\n",
      " (8,\n",
      "  '0.771*\"get\" + -0.585*\"ass\" + -0.101*\"weight\" + -0.092*\"loss\" + '\n",
      "  '-0.069*\"exercise\" + 0.066*\"eat\" + 0.056*\"go\" + -0.046*\"fat\" + -0.041*\"lose\" '\n",
      "  '+ 0.036*\"rid\"'),\n",
      " (9,\n",
      "  '-0.674*\"version\" + -0.658*\"new\" + 0.209*\"exercise\" + -0.108*\"heart_disease\" '\n",
      "  '+ -0.106*\"deadly_combination\" + -0.082*\"field\" + -0.075*\"type\" + '\n",
      "  '-0.067*\"get\" + 0.060*\"good\" + -0.046*\"weight\"'),\n",
      " (10,\n",
      "  '0.499*\"eat\" + 0.433*\"day\" + 0.311*\"go\" + -0.248*\"get\" + -0.219*\"weight\" + '\n",
      "  '-0.216*\"loss\" + 0.150*\"need\" + 0.149*\"healthy\" + 0.134*\"say\" + '\n",
      "  '0.120*\"today\"'),\n",
      " (11,\n",
      "  '-0.442*\"lose\" + 0.428*\"eat\" + -0.366*\"day\" + 0.343*\"good\" + 0.246*\"loss\" + '\n",
      "  '-0.243*\"belly\" + 0.219*\"type\" + 0.201*\"healthy\" + -0.123*\"burn\" + '\n",
      "  '-0.103*\"body\"'),\n",
      " (12,\n",
      "  '0.693*\"good\" + -0.299*\"need\" + -0.290*\"loss\" + 0.287*\"lose\" + -0.247*\"go\" + '\n",
      "  '-0.192*\"know\" + 0.157*\"health\" + -0.126*\"say\" + 0.116*\"help\" + '\n",
      "  '-0.113*\"eat\"'),\n",
      " (13,\n",
      "  '-0.512*\"eat\" + 0.366*\"type\" + 0.357*\"say\" + 0.271*\"good\" + -0.238*\"lose\" + '\n",
      "  '0.194*\"go\" + 0.192*\"need\" + -0.192*\"healthy\" + 0.185*\"know\" + '\n",
      "  '0.174*\"least\"'),\n",
      " (14,\n",
      "  '-0.720*\"type\" + 0.298*\"say\" + 0.280*\"good\" + -0.181*\"life\" + -0.179*\"live\" '\n",
      "  '+ -0.175*\"lose\" + 0.167*\"health\" + 0.139*\"least\" + -0.138*\"way\" + '\n",
      "  '-0.135*\"full\"'),\n",
      " (15,\n",
      "  '-0.643*\"say\" + -0.343*\"least\" + 0.285*\"need\" + 0.223*\"go\" + -0.196*\"type\" + '\n",
      "  '-0.192*\"drug_meet\" + -0.182*\"eat\" + 0.176*\"know\" + '\n",
      "  '0.175*\"deadly_combination\" + 0.174*\"heart_disease\"'),\n",
      " (16,\n",
      "  '-0.510*\"day\" + 0.335*\"heart_disease\" + 0.333*\"deadly_combination\" + '\n",
      "  '0.273*\"belly\" + 0.246*\"need\" + 0.235*\"way\" + 0.230*\"say\" + 0.187*\"lose\" + '\n",
      "  '0.135*\"least\" + 0.134*\"tell\"')]\n"
     ]
    }
   ],
   "source": [
    "# Select the model and print the topics\n",
    "optimal_model = model_list[3]\n",
    "model_topics = optimal_model.show_topics(formatted=False)\n",
    "pprint(optimal_model.print_topics(num_words=10))"
   ]
  },
  {
   "cell_type": "code",
   "execution_count": null,
   "metadata": {},
   "outputs": [],
   "source": []
  }
 ],
 "metadata": {
  "kernelspec": {
   "display_name": "Python 3",
   "language": "python",
   "name": "python3"
  },
  "language_info": {
   "codemirror_mode": {
    "name": "ipython",
    "version": 3
   },
   "file_extension": ".py",
   "mimetype": "text/x-python",
   "name": "python",
   "nbconvert_exporter": "python",
   "pygments_lexer": "ipython3",
   "version": "3.10.6"
  }
 },
 "nbformat": 4,
 "nbformat_minor": 4
}
